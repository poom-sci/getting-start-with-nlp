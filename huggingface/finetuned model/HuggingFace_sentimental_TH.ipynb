{
  "nbformat": 4,
  "nbformat_minor": 0,
  "metadata": {
    "accelerator": "GPU",
    "colab": {
      "name": "HuggingFace-sentimental-TH",
      "provenance": [],
      "collapsed_sections": []
    },
    "kernelspec": {
      "display_name": "Python 3",
      "name": "python3"
    },
    "language_info": {
      "name": "python"
    },
    "widgets": {
      "application/vnd.jupyter.widget-state+json": {
        "1aaa75add52c478d9f384aed06db4b39": {
          "model_module": "@jupyter-widgets/controls",
          "model_name": "HBoxModel",
          "model_module_version": "1.5.0",
          "state": {
            "_view_name": "HBoxView",
            "_dom_classes": [],
            "_model_name": "HBoxModel",
            "_view_module": "@jupyter-widgets/controls",
            "_model_module_version": "1.5.0",
            "_view_count": null,
            "_view_module_version": "1.5.0",
            "box_style": "",
            "layout": "IPY_MODEL_f1e1fa995b964a9fbe4b6708a28d6d77",
            "_model_module": "@jupyter-widgets/controls",
            "children": [
              "IPY_MODEL_c9dbdf40cbb443f582bd4aae2f59c369",
              "IPY_MODEL_ea371f120318471895c6af927fd4c35a",
              "IPY_MODEL_382082e02c6e41dd95dda767f6138f1a"
            ]
          }
        },
        "f1e1fa995b964a9fbe4b6708a28d6d77": {
          "model_module": "@jupyter-widgets/base",
          "model_name": "LayoutModel",
          "model_module_version": "1.2.0",
          "state": {
            "_view_name": "LayoutView",
            "grid_template_rows": null,
            "right": null,
            "justify_content": null,
            "_view_module": "@jupyter-widgets/base",
            "overflow": null,
            "_model_module_version": "1.2.0",
            "_view_count": null,
            "flex_flow": null,
            "width": null,
            "min_width": null,
            "border": null,
            "align_items": null,
            "bottom": null,
            "_model_module": "@jupyter-widgets/base",
            "top": null,
            "grid_column": null,
            "overflow_y": null,
            "overflow_x": null,
            "grid_auto_flow": null,
            "grid_area": null,
            "grid_template_columns": null,
            "flex": null,
            "_model_name": "LayoutModel",
            "justify_items": null,
            "grid_row": null,
            "max_height": null,
            "align_content": null,
            "visibility": null,
            "align_self": null,
            "height": null,
            "min_height": null,
            "padding": null,
            "grid_auto_rows": null,
            "grid_gap": null,
            "max_width": null,
            "order": null,
            "_view_module_version": "1.2.0",
            "grid_template_areas": null,
            "object_position": null,
            "object_fit": null,
            "grid_auto_columns": null,
            "margin": null,
            "display": null,
            "left": null
          }
        },
        "c9dbdf40cbb443f582bd4aae2f59c369": {
          "model_module": "@jupyter-widgets/controls",
          "model_name": "HTMLModel",
          "model_module_version": "1.5.0",
          "state": {
            "_view_name": "HTMLView",
            "style": "IPY_MODEL_50f8e05b13e54380b39483659faa286f",
            "_dom_classes": [],
            "description": "",
            "_model_name": "HTMLModel",
            "placeholder": "​",
            "_view_module": "@jupyter-widgets/controls",
            "_model_module_version": "1.5.0",
            "value": "100%",
            "_view_count": null,
            "_view_module_version": "1.5.0",
            "description_tooltip": null,
            "_model_module": "@jupyter-widgets/controls",
            "layout": "IPY_MODEL_2b9b933d068a43fda89761f20e294eb4"
          }
        },
        "ea371f120318471895c6af927fd4c35a": {
          "model_module": "@jupyter-widgets/controls",
          "model_name": "FloatProgressModel",
          "model_module_version": "1.5.0",
          "state": {
            "_view_name": "ProgressView",
            "style": "IPY_MODEL_24567c57c28d403981e20e8cfd0bffaa",
            "_dom_classes": [],
            "description": "",
            "_model_name": "FloatProgressModel",
            "bar_style": "success",
            "max": 1048,
            "_view_module": "@jupyter-widgets/controls",
            "_model_module_version": "1.5.0",
            "value": 1048,
            "_view_count": null,
            "_view_module_version": "1.5.0",
            "orientation": "horizontal",
            "min": 0,
            "description_tooltip": null,
            "_model_module": "@jupyter-widgets/controls",
            "layout": "IPY_MODEL_f01f84ea2afa43b1ae586ad38477f0c3"
          }
        },
        "382082e02c6e41dd95dda767f6138f1a": {
          "model_module": "@jupyter-widgets/controls",
          "model_name": "HTMLModel",
          "model_module_version": "1.5.0",
          "state": {
            "_view_name": "HTMLView",
            "style": "IPY_MODEL_31c7ae6566c94a2dbadf19258fd608dc",
            "_dom_classes": [],
            "description": "",
            "_model_name": "HTMLModel",
            "placeholder": "​",
            "_view_module": "@jupyter-widgets/controls",
            "_model_module_version": "1.5.0",
            "value": " 1048/1048 [00:00&lt;00:00, 3608.04ex/s]",
            "_view_count": null,
            "_view_module_version": "1.5.0",
            "description_tooltip": null,
            "_model_module": "@jupyter-widgets/controls",
            "layout": "IPY_MODEL_a270a5291e5647b7842a908ae253d50d"
          }
        },
        "50f8e05b13e54380b39483659faa286f": {
          "model_module": "@jupyter-widgets/controls",
          "model_name": "DescriptionStyleModel",
          "model_module_version": "1.5.0",
          "state": {
            "_view_name": "StyleView",
            "_model_name": "DescriptionStyleModel",
            "description_width": "",
            "_view_module": "@jupyter-widgets/base",
            "_model_module_version": "1.5.0",
            "_view_count": null,
            "_view_module_version": "1.2.0",
            "_model_module": "@jupyter-widgets/controls"
          }
        },
        "2b9b933d068a43fda89761f20e294eb4": {
          "model_module": "@jupyter-widgets/base",
          "model_name": "LayoutModel",
          "model_module_version": "1.2.0",
          "state": {
            "_view_name": "LayoutView",
            "grid_template_rows": null,
            "right": null,
            "justify_content": null,
            "_view_module": "@jupyter-widgets/base",
            "overflow": null,
            "_model_module_version": "1.2.0",
            "_view_count": null,
            "flex_flow": null,
            "width": null,
            "min_width": null,
            "border": null,
            "align_items": null,
            "bottom": null,
            "_model_module": "@jupyter-widgets/base",
            "top": null,
            "grid_column": null,
            "overflow_y": null,
            "overflow_x": null,
            "grid_auto_flow": null,
            "grid_area": null,
            "grid_template_columns": null,
            "flex": null,
            "_model_name": "LayoutModel",
            "justify_items": null,
            "grid_row": null,
            "max_height": null,
            "align_content": null,
            "visibility": null,
            "align_self": null,
            "height": null,
            "min_height": null,
            "padding": null,
            "grid_auto_rows": null,
            "grid_gap": null,
            "max_width": null,
            "order": null,
            "_view_module_version": "1.2.0",
            "grid_template_areas": null,
            "object_position": null,
            "object_fit": null,
            "grid_auto_columns": null,
            "margin": null,
            "display": null,
            "left": null
          }
        },
        "24567c57c28d403981e20e8cfd0bffaa": {
          "model_module": "@jupyter-widgets/controls",
          "model_name": "ProgressStyleModel",
          "model_module_version": "1.5.0",
          "state": {
            "_view_name": "StyleView",
            "_model_name": "ProgressStyleModel",
            "description_width": "",
            "_view_module": "@jupyter-widgets/base",
            "_model_module_version": "1.5.0",
            "_view_count": null,
            "_view_module_version": "1.2.0",
            "bar_color": null,
            "_model_module": "@jupyter-widgets/controls"
          }
        },
        "f01f84ea2afa43b1ae586ad38477f0c3": {
          "model_module": "@jupyter-widgets/base",
          "model_name": "LayoutModel",
          "model_module_version": "1.2.0",
          "state": {
            "_view_name": "LayoutView",
            "grid_template_rows": null,
            "right": null,
            "justify_content": null,
            "_view_module": "@jupyter-widgets/base",
            "overflow": null,
            "_model_module_version": "1.2.0",
            "_view_count": null,
            "flex_flow": null,
            "width": null,
            "min_width": null,
            "border": null,
            "align_items": null,
            "bottom": null,
            "_model_module": "@jupyter-widgets/base",
            "top": null,
            "grid_column": null,
            "overflow_y": null,
            "overflow_x": null,
            "grid_auto_flow": null,
            "grid_area": null,
            "grid_template_columns": null,
            "flex": null,
            "_model_name": "LayoutModel",
            "justify_items": null,
            "grid_row": null,
            "max_height": null,
            "align_content": null,
            "visibility": null,
            "align_self": null,
            "height": null,
            "min_height": null,
            "padding": null,
            "grid_auto_rows": null,
            "grid_gap": null,
            "max_width": null,
            "order": null,
            "_view_module_version": "1.2.0",
            "grid_template_areas": null,
            "object_position": null,
            "object_fit": null,
            "grid_auto_columns": null,
            "margin": null,
            "display": null,
            "left": null
          }
        },
        "31c7ae6566c94a2dbadf19258fd608dc": {
          "model_module": "@jupyter-widgets/controls",
          "model_name": "DescriptionStyleModel",
          "model_module_version": "1.5.0",
          "state": {
            "_view_name": "StyleView",
            "_model_name": "DescriptionStyleModel",
            "description_width": "",
            "_view_module": "@jupyter-widgets/base",
            "_model_module_version": "1.5.0",
            "_view_count": null,
            "_view_module_version": "1.2.0",
            "_model_module": "@jupyter-widgets/controls"
          }
        },
        "a270a5291e5647b7842a908ae253d50d": {
          "model_module": "@jupyter-widgets/base",
          "model_name": "LayoutModel",
          "model_module_version": "1.2.0",
          "state": {
            "_view_name": "LayoutView",
            "grid_template_rows": null,
            "right": null,
            "justify_content": null,
            "_view_module": "@jupyter-widgets/base",
            "overflow": null,
            "_model_module_version": "1.2.0",
            "_view_count": null,
            "flex_flow": null,
            "width": null,
            "min_width": null,
            "border": null,
            "align_items": null,
            "bottom": null,
            "_model_module": "@jupyter-widgets/base",
            "top": null,
            "grid_column": null,
            "overflow_y": null,
            "overflow_x": null,
            "grid_auto_flow": null,
            "grid_area": null,
            "grid_template_columns": null,
            "flex": null,
            "_model_name": "LayoutModel",
            "justify_items": null,
            "grid_row": null,
            "max_height": null,
            "align_content": null,
            "visibility": null,
            "align_self": null,
            "height": null,
            "min_height": null,
            "padding": null,
            "grid_auto_rows": null,
            "grid_gap": null,
            "max_width": null,
            "order": null,
            "_view_module_version": "1.2.0",
            "grid_template_areas": null,
            "object_position": null,
            "object_fit": null,
            "grid_auto_columns": null,
            "margin": null,
            "display": null,
            "left": null
          }
        },
        "5a812f954c574447806edbe0d5573749": {
          "model_module": "@jupyter-widgets/controls",
          "model_name": "HBoxModel",
          "model_module_version": "1.5.0",
          "state": {
            "_view_name": "HBoxView",
            "_dom_classes": [],
            "_model_name": "HBoxModel",
            "_view_module": "@jupyter-widgets/controls",
            "_model_module_version": "1.5.0",
            "_view_count": null,
            "_view_module_version": "1.5.0",
            "box_style": "",
            "layout": "IPY_MODEL_114f03c8f4a44157bd3c6ada86b6c01c",
            "_model_module": "@jupyter-widgets/controls",
            "children": [
              "IPY_MODEL_36846118cd014e978870d85171516371",
              "IPY_MODEL_46b3290a40a442139b0c7c8c53b2f020",
              "IPY_MODEL_47592d73e60b4ba39ec7ed001dde68eb"
            ]
          }
        },
        "114f03c8f4a44157bd3c6ada86b6c01c": {
          "model_module": "@jupyter-widgets/base",
          "model_name": "LayoutModel",
          "model_module_version": "1.2.0",
          "state": {
            "_view_name": "LayoutView",
            "grid_template_rows": null,
            "right": null,
            "justify_content": null,
            "_view_module": "@jupyter-widgets/base",
            "overflow": null,
            "_model_module_version": "1.2.0",
            "_view_count": null,
            "flex_flow": null,
            "width": null,
            "min_width": null,
            "border": null,
            "align_items": null,
            "bottom": null,
            "_model_module": "@jupyter-widgets/base",
            "top": null,
            "grid_column": null,
            "overflow_y": null,
            "overflow_x": null,
            "grid_auto_flow": null,
            "grid_area": null,
            "grid_template_columns": null,
            "flex": null,
            "_model_name": "LayoutModel",
            "justify_items": null,
            "grid_row": null,
            "max_height": null,
            "align_content": null,
            "visibility": null,
            "align_self": null,
            "height": null,
            "min_height": null,
            "padding": null,
            "grid_auto_rows": null,
            "grid_gap": null,
            "max_width": null,
            "order": null,
            "_view_module_version": "1.2.0",
            "grid_template_areas": null,
            "object_position": null,
            "object_fit": null,
            "grid_auto_columns": null,
            "margin": null,
            "display": null,
            "left": null
          }
        },
        "36846118cd014e978870d85171516371": {
          "model_module": "@jupyter-widgets/controls",
          "model_name": "HTMLModel",
          "model_module_version": "1.5.0",
          "state": {
            "_view_name": "HTMLView",
            "style": "IPY_MODEL_39433a1ee08c4758be9a967c0dd06700",
            "_dom_classes": [],
            "description": "",
            "_model_name": "HTMLModel",
            "placeholder": "​",
            "_view_module": "@jupyter-widgets/controls",
            "_model_module_version": "1.5.0",
            "value": "100%",
            "_view_count": null,
            "_view_module_version": "1.5.0",
            "description_tooltip": null,
            "_model_module": "@jupyter-widgets/controls",
            "layout": "IPY_MODEL_b63721892fe64830b7ba0627442d21c8"
          }
        },
        "46b3290a40a442139b0c7c8c53b2f020": {
          "model_module": "@jupyter-widgets/controls",
          "model_name": "FloatProgressModel",
          "model_module_version": "1.5.0",
          "state": {
            "_view_name": "ProgressView",
            "style": "IPY_MODEL_7c5f47b7f7704a6f93a1586a67d83ad2",
            "_dom_classes": [],
            "description": "",
            "_model_name": "FloatProgressModel",
            "bar_style": "success",
            "max": 3,
            "_view_module": "@jupyter-widgets/controls",
            "_model_module_version": "1.5.0",
            "value": 3,
            "_view_count": null,
            "_view_module_version": "1.5.0",
            "orientation": "horizontal",
            "min": 0,
            "description_tooltip": null,
            "_model_module": "@jupyter-widgets/controls",
            "layout": "IPY_MODEL_ec6627d6a86443278789ddf3eafb93b8"
          }
        },
        "47592d73e60b4ba39ec7ed001dde68eb": {
          "model_module": "@jupyter-widgets/controls",
          "model_name": "HTMLModel",
          "model_module_version": "1.5.0",
          "state": {
            "_view_name": "HTMLView",
            "style": "IPY_MODEL_583aa88c6af64a31844a673aab307c0e",
            "_dom_classes": [],
            "description": "",
            "_model_name": "HTMLModel",
            "placeholder": "​",
            "_view_module": "@jupyter-widgets/controls",
            "_model_module_version": "1.5.0",
            "value": " 3/3 [00:00&lt;00:00, 63.81it/s]",
            "_view_count": null,
            "_view_module_version": "1.5.0",
            "description_tooltip": null,
            "_model_module": "@jupyter-widgets/controls",
            "layout": "IPY_MODEL_e17d6d13d7554cc9ac9c5d836dcb9da0"
          }
        },
        "39433a1ee08c4758be9a967c0dd06700": {
          "model_module": "@jupyter-widgets/controls",
          "model_name": "DescriptionStyleModel",
          "model_module_version": "1.5.0",
          "state": {
            "_view_name": "StyleView",
            "_model_name": "DescriptionStyleModel",
            "description_width": "",
            "_view_module": "@jupyter-widgets/base",
            "_model_module_version": "1.5.0",
            "_view_count": null,
            "_view_module_version": "1.2.0",
            "_model_module": "@jupyter-widgets/controls"
          }
        },
        "b63721892fe64830b7ba0627442d21c8": {
          "model_module": "@jupyter-widgets/base",
          "model_name": "LayoutModel",
          "model_module_version": "1.2.0",
          "state": {
            "_view_name": "LayoutView",
            "grid_template_rows": null,
            "right": null,
            "justify_content": null,
            "_view_module": "@jupyter-widgets/base",
            "overflow": null,
            "_model_module_version": "1.2.0",
            "_view_count": null,
            "flex_flow": null,
            "width": null,
            "min_width": null,
            "border": null,
            "align_items": null,
            "bottom": null,
            "_model_module": "@jupyter-widgets/base",
            "top": null,
            "grid_column": null,
            "overflow_y": null,
            "overflow_x": null,
            "grid_auto_flow": null,
            "grid_area": null,
            "grid_template_columns": null,
            "flex": null,
            "_model_name": "LayoutModel",
            "justify_items": null,
            "grid_row": null,
            "max_height": null,
            "align_content": null,
            "visibility": null,
            "align_self": null,
            "height": null,
            "min_height": null,
            "padding": null,
            "grid_auto_rows": null,
            "grid_gap": null,
            "max_width": null,
            "order": null,
            "_view_module_version": "1.2.0",
            "grid_template_areas": null,
            "object_position": null,
            "object_fit": null,
            "grid_auto_columns": null,
            "margin": null,
            "display": null,
            "left": null
          }
        },
        "7c5f47b7f7704a6f93a1586a67d83ad2": {
          "model_module": "@jupyter-widgets/controls",
          "model_name": "ProgressStyleModel",
          "model_module_version": "1.5.0",
          "state": {
            "_view_name": "StyleView",
            "_model_name": "ProgressStyleModel",
            "description_width": "",
            "_view_module": "@jupyter-widgets/base",
            "_model_module_version": "1.5.0",
            "_view_count": null,
            "_view_module_version": "1.2.0",
            "bar_color": null,
            "_model_module": "@jupyter-widgets/controls"
          }
        },
        "ec6627d6a86443278789ddf3eafb93b8": {
          "model_module": "@jupyter-widgets/base",
          "model_name": "LayoutModel",
          "model_module_version": "1.2.0",
          "state": {
            "_view_name": "LayoutView",
            "grid_template_rows": null,
            "right": null,
            "justify_content": null,
            "_view_module": "@jupyter-widgets/base",
            "overflow": null,
            "_model_module_version": "1.2.0",
            "_view_count": null,
            "flex_flow": null,
            "width": null,
            "min_width": null,
            "border": null,
            "align_items": null,
            "bottom": null,
            "_model_module": "@jupyter-widgets/base",
            "top": null,
            "grid_column": null,
            "overflow_y": null,
            "overflow_x": null,
            "grid_auto_flow": null,
            "grid_area": null,
            "grid_template_columns": null,
            "flex": null,
            "_model_name": "LayoutModel",
            "justify_items": null,
            "grid_row": null,
            "max_height": null,
            "align_content": null,
            "visibility": null,
            "align_self": null,
            "height": null,
            "min_height": null,
            "padding": null,
            "grid_auto_rows": null,
            "grid_gap": null,
            "max_width": null,
            "order": null,
            "_view_module_version": "1.2.0",
            "grid_template_areas": null,
            "object_position": null,
            "object_fit": null,
            "grid_auto_columns": null,
            "margin": null,
            "display": null,
            "left": null
          }
        },
        "583aa88c6af64a31844a673aab307c0e": {
          "model_module": "@jupyter-widgets/controls",
          "model_name": "DescriptionStyleModel",
          "model_module_version": "1.5.0",
          "state": {
            "_view_name": "StyleView",
            "_model_name": "DescriptionStyleModel",
            "description_width": "",
            "_view_module": "@jupyter-widgets/base",
            "_model_module_version": "1.5.0",
            "_view_count": null,
            "_view_module_version": "1.2.0",
            "_model_module": "@jupyter-widgets/controls"
          }
        },
        "e17d6d13d7554cc9ac9c5d836dcb9da0": {
          "model_module": "@jupyter-widgets/base",
          "model_name": "LayoutModel",
          "model_module_version": "1.2.0",
          "state": {
            "_view_name": "LayoutView",
            "grid_template_rows": null,
            "right": null,
            "justify_content": null,
            "_view_module": "@jupyter-widgets/base",
            "overflow": null,
            "_model_module_version": "1.2.0",
            "_view_count": null,
            "flex_flow": null,
            "width": null,
            "min_width": null,
            "border": null,
            "align_items": null,
            "bottom": null,
            "_model_module": "@jupyter-widgets/base",
            "top": null,
            "grid_column": null,
            "overflow_y": null,
            "overflow_x": null,
            "grid_auto_flow": null,
            "grid_area": null,
            "grid_template_columns": null,
            "flex": null,
            "_model_name": "LayoutModel",
            "justify_items": null,
            "grid_row": null,
            "max_height": null,
            "align_content": null,
            "visibility": null,
            "align_self": null,
            "height": null,
            "min_height": null,
            "padding": null,
            "grid_auto_rows": null,
            "grid_gap": null,
            "max_width": null,
            "order": null,
            "_view_module_version": "1.2.0",
            "grid_template_areas": null,
            "object_position": null,
            "object_fit": null,
            "grid_auto_columns": null,
            "margin": null,
            "display": null,
            "left": null
          }
        },
        "0c9358431cd1481cac04572337869175": {
          "model_module": "@jupyter-widgets/controls",
          "model_name": "HBoxModel",
          "model_module_version": "1.5.0",
          "state": {
            "_view_name": "HBoxView",
            "_dom_classes": [],
            "_model_name": "HBoxModel",
            "_view_module": "@jupyter-widgets/controls",
            "_model_module_version": "1.5.0",
            "_view_count": null,
            "_view_module_version": "1.5.0",
            "box_style": "",
            "layout": "IPY_MODEL_23986927c31d4482b82e451e8842ed53",
            "_model_module": "@jupyter-widgets/controls",
            "children": [
              "IPY_MODEL_9a79a02ee45040799eec192a937e6488",
              "IPY_MODEL_65a0c722fde845f3b98dddf00afcc261",
              "IPY_MODEL_88d6cb40a71e43538457527fad5d6f5c"
            ]
          }
        },
        "23986927c31d4482b82e451e8842ed53": {
          "model_module": "@jupyter-widgets/base",
          "model_name": "LayoutModel",
          "model_module_version": "1.2.0",
          "state": {
            "_view_name": "LayoutView",
            "grid_template_rows": null,
            "right": null,
            "justify_content": null,
            "_view_module": "@jupyter-widgets/base",
            "overflow": null,
            "_model_module_version": "1.2.0",
            "_view_count": null,
            "flex_flow": null,
            "width": null,
            "min_width": null,
            "border": null,
            "align_items": null,
            "bottom": null,
            "_model_module": "@jupyter-widgets/base",
            "top": null,
            "grid_column": null,
            "overflow_y": null,
            "overflow_x": null,
            "grid_auto_flow": null,
            "grid_area": null,
            "grid_template_columns": null,
            "flex": null,
            "_model_name": "LayoutModel",
            "justify_items": null,
            "grid_row": null,
            "max_height": null,
            "align_content": null,
            "visibility": null,
            "align_self": null,
            "height": null,
            "min_height": null,
            "padding": null,
            "grid_auto_rows": null,
            "grid_gap": null,
            "max_width": null,
            "order": null,
            "_view_module_version": "1.2.0",
            "grid_template_areas": null,
            "object_position": null,
            "object_fit": null,
            "grid_auto_columns": null,
            "margin": null,
            "display": null,
            "left": null
          }
        },
        "9a79a02ee45040799eec192a937e6488": {
          "model_module": "@jupyter-widgets/controls",
          "model_name": "HTMLModel",
          "model_module_version": "1.5.0",
          "state": {
            "_view_name": "HTMLView",
            "style": "IPY_MODEL_13aac520fbcb4a92bb397e5fca5f8669",
            "_dom_classes": [],
            "description": "",
            "_model_name": "HTMLModel",
            "placeholder": "​",
            "_view_module": "@jupyter-widgets/controls",
            "_model_module_version": "1.5.0",
            "value": "Casting the dataset: 100%",
            "_view_count": null,
            "_view_module_version": "1.5.0",
            "description_tooltip": null,
            "_model_module": "@jupyter-widgets/controls",
            "layout": "IPY_MODEL_35da6d9de52640d9af0611f546898c34"
          }
        },
        "65a0c722fde845f3b98dddf00afcc261": {
          "model_module": "@jupyter-widgets/controls",
          "model_name": "FloatProgressModel",
          "model_module_version": "1.5.0",
          "state": {
            "_view_name": "ProgressView",
            "style": "IPY_MODEL_f398dc5f0e0f4d3790e824c85182287b",
            "_dom_classes": [],
            "description": "",
            "_model_name": "FloatProgressModel",
            "bar_style": "success",
            "max": 1,
            "_view_module": "@jupyter-widgets/controls",
            "_model_module_version": "1.5.0",
            "value": 1,
            "_view_count": null,
            "_view_module_version": "1.5.0",
            "orientation": "horizontal",
            "min": 0,
            "description_tooltip": null,
            "_model_module": "@jupyter-widgets/controls",
            "layout": "IPY_MODEL_d4673448303840b8b3fc80c54edc92de"
          }
        },
        "88d6cb40a71e43538457527fad5d6f5c": {
          "model_module": "@jupyter-widgets/controls",
          "model_name": "HTMLModel",
          "model_module_version": "1.5.0",
          "state": {
            "_view_name": "HTMLView",
            "style": "IPY_MODEL_c1729ed025cf4817bea78f3827b62164",
            "_dom_classes": [],
            "description": "",
            "_model_name": "HTMLModel",
            "placeholder": "​",
            "_view_module": "@jupyter-widgets/controls",
            "_model_module_version": "1.5.0",
            "value": " 1/1 [00:00&lt;00:00, 11.47ba/s]",
            "_view_count": null,
            "_view_module_version": "1.5.0",
            "description_tooltip": null,
            "_model_module": "@jupyter-widgets/controls",
            "layout": "IPY_MODEL_ff7b0664073b415d8117bc73668ec9a0"
          }
        },
        "13aac520fbcb4a92bb397e5fca5f8669": {
          "model_module": "@jupyter-widgets/controls",
          "model_name": "DescriptionStyleModel",
          "model_module_version": "1.5.0",
          "state": {
            "_view_name": "StyleView",
            "_model_name": "DescriptionStyleModel",
            "description_width": "",
            "_view_module": "@jupyter-widgets/base",
            "_model_module_version": "1.5.0",
            "_view_count": null,
            "_view_module_version": "1.2.0",
            "_model_module": "@jupyter-widgets/controls"
          }
        },
        "35da6d9de52640d9af0611f546898c34": {
          "model_module": "@jupyter-widgets/base",
          "model_name": "LayoutModel",
          "model_module_version": "1.2.0",
          "state": {
            "_view_name": "LayoutView",
            "grid_template_rows": null,
            "right": null,
            "justify_content": null,
            "_view_module": "@jupyter-widgets/base",
            "overflow": null,
            "_model_module_version": "1.2.0",
            "_view_count": null,
            "flex_flow": null,
            "width": null,
            "min_width": null,
            "border": null,
            "align_items": null,
            "bottom": null,
            "_model_module": "@jupyter-widgets/base",
            "top": null,
            "grid_column": null,
            "overflow_y": null,
            "overflow_x": null,
            "grid_auto_flow": null,
            "grid_area": null,
            "grid_template_columns": null,
            "flex": null,
            "_model_name": "LayoutModel",
            "justify_items": null,
            "grid_row": null,
            "max_height": null,
            "align_content": null,
            "visibility": null,
            "align_self": null,
            "height": null,
            "min_height": null,
            "padding": null,
            "grid_auto_rows": null,
            "grid_gap": null,
            "max_width": null,
            "order": null,
            "_view_module_version": "1.2.0",
            "grid_template_areas": null,
            "object_position": null,
            "object_fit": null,
            "grid_auto_columns": null,
            "margin": null,
            "display": null,
            "left": null
          }
        },
        "f398dc5f0e0f4d3790e824c85182287b": {
          "model_module": "@jupyter-widgets/controls",
          "model_name": "ProgressStyleModel",
          "model_module_version": "1.5.0",
          "state": {
            "_view_name": "StyleView",
            "_model_name": "ProgressStyleModel",
            "description_width": "",
            "_view_module": "@jupyter-widgets/base",
            "_model_module_version": "1.5.0",
            "_view_count": null,
            "_view_module_version": "1.2.0",
            "bar_color": null,
            "_model_module": "@jupyter-widgets/controls"
          }
        },
        "d4673448303840b8b3fc80c54edc92de": {
          "model_module": "@jupyter-widgets/base",
          "model_name": "LayoutModel",
          "model_module_version": "1.2.0",
          "state": {
            "_view_name": "LayoutView",
            "grid_template_rows": null,
            "right": null,
            "justify_content": null,
            "_view_module": "@jupyter-widgets/base",
            "overflow": null,
            "_model_module_version": "1.2.0",
            "_view_count": null,
            "flex_flow": null,
            "width": null,
            "min_width": null,
            "border": null,
            "align_items": null,
            "bottom": null,
            "_model_module": "@jupyter-widgets/base",
            "top": null,
            "grid_column": null,
            "overflow_y": null,
            "overflow_x": null,
            "grid_auto_flow": null,
            "grid_area": null,
            "grid_template_columns": null,
            "flex": null,
            "_model_name": "LayoutModel",
            "justify_items": null,
            "grid_row": null,
            "max_height": null,
            "align_content": null,
            "visibility": null,
            "align_self": null,
            "height": null,
            "min_height": null,
            "padding": null,
            "grid_auto_rows": null,
            "grid_gap": null,
            "max_width": null,
            "order": null,
            "_view_module_version": "1.2.0",
            "grid_template_areas": null,
            "object_position": null,
            "object_fit": null,
            "grid_auto_columns": null,
            "margin": null,
            "display": null,
            "left": null
          }
        },
        "c1729ed025cf4817bea78f3827b62164": {
          "model_module": "@jupyter-widgets/controls",
          "model_name": "DescriptionStyleModel",
          "model_module_version": "1.5.0",
          "state": {
            "_view_name": "StyleView",
            "_model_name": "DescriptionStyleModel",
            "description_width": "",
            "_view_module": "@jupyter-widgets/base",
            "_model_module_version": "1.5.0",
            "_view_count": null,
            "_view_module_version": "1.2.0",
            "_model_module": "@jupyter-widgets/controls"
          }
        },
        "ff7b0664073b415d8117bc73668ec9a0": {
          "model_module": "@jupyter-widgets/base",
          "model_name": "LayoutModel",
          "model_module_version": "1.2.0",
          "state": {
            "_view_name": "LayoutView",
            "grid_template_rows": null,
            "right": null,
            "justify_content": null,
            "_view_module": "@jupyter-widgets/base",
            "overflow": null,
            "_model_module_version": "1.2.0",
            "_view_count": null,
            "flex_flow": null,
            "width": null,
            "min_width": null,
            "border": null,
            "align_items": null,
            "bottom": null,
            "_model_module": "@jupyter-widgets/base",
            "top": null,
            "grid_column": null,
            "overflow_y": null,
            "overflow_x": null,
            "grid_auto_flow": null,
            "grid_area": null,
            "grid_template_columns": null,
            "flex": null,
            "_model_name": "LayoutModel",
            "justify_items": null,
            "grid_row": null,
            "max_height": null,
            "align_content": null,
            "visibility": null,
            "align_self": null,
            "height": null,
            "min_height": null,
            "padding": null,
            "grid_auto_rows": null,
            "grid_gap": null,
            "max_width": null,
            "order": null,
            "_view_module_version": "1.2.0",
            "grid_template_areas": null,
            "object_position": null,
            "object_fit": null,
            "grid_auto_columns": null,
            "margin": null,
            "display": null,
            "left": null
          }
        },
        "373e354210c242a09fc7241a8ade5583": {
          "model_module": "@jupyter-widgets/controls",
          "model_name": "HBoxModel",
          "model_module_version": "1.5.0",
          "state": {
            "_view_name": "HBoxView",
            "_dom_classes": [],
            "_model_name": "HBoxModel",
            "_view_module": "@jupyter-widgets/controls",
            "_model_module_version": "1.5.0",
            "_view_count": null,
            "_view_module_version": "1.5.0",
            "box_style": "",
            "layout": "IPY_MODEL_6711b17533fc4982997fa8b890b681b2",
            "_model_module": "@jupyter-widgets/controls",
            "children": [
              "IPY_MODEL_3e149e6062714aba8d62c427614587d1",
              "IPY_MODEL_32fc1057f15a4ae480d2bf95037cb274",
              "IPY_MODEL_7849e8fba58542689d2dc705ef824322"
            ]
          }
        },
        "6711b17533fc4982997fa8b890b681b2": {
          "model_module": "@jupyter-widgets/base",
          "model_name": "LayoutModel",
          "model_module_version": "1.2.0",
          "state": {
            "_view_name": "LayoutView",
            "grid_template_rows": null,
            "right": null,
            "justify_content": null,
            "_view_module": "@jupyter-widgets/base",
            "overflow": null,
            "_model_module_version": "1.2.0",
            "_view_count": null,
            "flex_flow": null,
            "width": null,
            "min_width": null,
            "border": null,
            "align_items": null,
            "bottom": null,
            "_model_module": "@jupyter-widgets/base",
            "top": null,
            "grid_column": null,
            "overflow_y": null,
            "overflow_x": null,
            "grid_auto_flow": null,
            "grid_area": null,
            "grid_template_columns": null,
            "flex": null,
            "_model_name": "LayoutModel",
            "justify_items": null,
            "grid_row": null,
            "max_height": null,
            "align_content": null,
            "visibility": null,
            "align_self": null,
            "height": null,
            "min_height": null,
            "padding": null,
            "grid_auto_rows": null,
            "grid_gap": null,
            "max_width": null,
            "order": null,
            "_view_module_version": "1.2.0",
            "grid_template_areas": null,
            "object_position": null,
            "object_fit": null,
            "grid_auto_columns": null,
            "margin": null,
            "display": null,
            "left": null
          }
        },
        "3e149e6062714aba8d62c427614587d1": {
          "model_module": "@jupyter-widgets/controls",
          "model_name": "HTMLModel",
          "model_module_version": "1.5.0",
          "state": {
            "_view_name": "HTMLView",
            "style": "IPY_MODEL_bbf0d3cac5e84cf5b3e6e79e2cea96c8",
            "_dom_classes": [],
            "description": "",
            "_model_name": "HTMLModel",
            "placeholder": "​",
            "_view_module": "@jupyter-widgets/controls",
            "_model_module_version": "1.5.0",
            "value": "100%",
            "_view_count": null,
            "_view_module_version": "1.5.0",
            "description_tooltip": null,
            "_model_module": "@jupyter-widgets/controls",
            "layout": "IPY_MODEL_67d5fd1f7308448f912c6704abce7dcb"
          }
        },
        "32fc1057f15a4ae480d2bf95037cb274": {
          "model_module": "@jupyter-widgets/controls",
          "model_name": "FloatProgressModel",
          "model_module_version": "1.5.0",
          "state": {
            "_view_name": "ProgressView",
            "style": "IPY_MODEL_9624abf781c64154ad808cec000419f4",
            "_dom_classes": [],
            "description": "",
            "_model_name": "FloatProgressModel",
            "bar_style": "success",
            "max": 3,
            "_view_module": "@jupyter-widgets/controls",
            "_model_module_version": "1.5.0",
            "value": 3,
            "_view_count": null,
            "_view_module_version": "1.5.0",
            "orientation": "horizontal",
            "min": 0,
            "description_tooltip": null,
            "_model_module": "@jupyter-widgets/controls",
            "layout": "IPY_MODEL_e0d6972c434b4998bb52069259f0cef5"
          }
        },
        "7849e8fba58542689d2dc705ef824322": {
          "model_module": "@jupyter-widgets/controls",
          "model_name": "HTMLModel",
          "model_module_version": "1.5.0",
          "state": {
            "_view_name": "HTMLView",
            "style": "IPY_MODEL_9f8b8b08adc14f3f8d8d20d108c4f557",
            "_dom_classes": [],
            "description": "",
            "_model_name": "HTMLModel",
            "placeholder": "​",
            "_view_module": "@jupyter-widgets/controls",
            "_model_module_version": "1.5.0",
            "value": " 3/3 [00:00&lt;00:00,  6.20ba/s]",
            "_view_count": null,
            "_view_module_version": "1.5.0",
            "description_tooltip": null,
            "_model_module": "@jupyter-widgets/controls",
            "layout": "IPY_MODEL_a3ae93a5a30b4dcaa705c9f923c78f82"
          }
        },
        "bbf0d3cac5e84cf5b3e6e79e2cea96c8": {
          "model_module": "@jupyter-widgets/controls",
          "model_name": "DescriptionStyleModel",
          "model_module_version": "1.5.0",
          "state": {
            "_view_name": "StyleView",
            "_model_name": "DescriptionStyleModel",
            "description_width": "",
            "_view_module": "@jupyter-widgets/base",
            "_model_module_version": "1.5.0",
            "_view_count": null,
            "_view_module_version": "1.2.0",
            "_model_module": "@jupyter-widgets/controls"
          }
        },
        "67d5fd1f7308448f912c6704abce7dcb": {
          "model_module": "@jupyter-widgets/base",
          "model_name": "LayoutModel",
          "model_module_version": "1.2.0",
          "state": {
            "_view_name": "LayoutView",
            "grid_template_rows": null,
            "right": null,
            "justify_content": null,
            "_view_module": "@jupyter-widgets/base",
            "overflow": null,
            "_model_module_version": "1.2.0",
            "_view_count": null,
            "flex_flow": null,
            "width": null,
            "min_width": null,
            "border": null,
            "align_items": null,
            "bottom": null,
            "_model_module": "@jupyter-widgets/base",
            "top": null,
            "grid_column": null,
            "overflow_y": null,
            "overflow_x": null,
            "grid_auto_flow": null,
            "grid_area": null,
            "grid_template_columns": null,
            "flex": null,
            "_model_name": "LayoutModel",
            "justify_items": null,
            "grid_row": null,
            "max_height": null,
            "align_content": null,
            "visibility": null,
            "align_self": null,
            "height": null,
            "min_height": null,
            "padding": null,
            "grid_auto_rows": null,
            "grid_gap": null,
            "max_width": null,
            "order": null,
            "_view_module_version": "1.2.0",
            "grid_template_areas": null,
            "object_position": null,
            "object_fit": null,
            "grid_auto_columns": null,
            "margin": null,
            "display": null,
            "left": null
          }
        },
        "9624abf781c64154ad808cec000419f4": {
          "model_module": "@jupyter-widgets/controls",
          "model_name": "ProgressStyleModel",
          "model_module_version": "1.5.0",
          "state": {
            "_view_name": "StyleView",
            "_model_name": "ProgressStyleModel",
            "description_width": "",
            "_view_module": "@jupyter-widgets/base",
            "_model_module_version": "1.5.0",
            "_view_count": null,
            "_view_module_version": "1.2.0",
            "bar_color": null,
            "_model_module": "@jupyter-widgets/controls"
          }
        },
        "e0d6972c434b4998bb52069259f0cef5": {
          "model_module": "@jupyter-widgets/base",
          "model_name": "LayoutModel",
          "model_module_version": "1.2.0",
          "state": {
            "_view_name": "LayoutView",
            "grid_template_rows": null,
            "right": null,
            "justify_content": null,
            "_view_module": "@jupyter-widgets/base",
            "overflow": null,
            "_model_module_version": "1.2.0",
            "_view_count": null,
            "flex_flow": null,
            "width": null,
            "min_width": null,
            "border": null,
            "align_items": null,
            "bottom": null,
            "_model_module": "@jupyter-widgets/base",
            "top": null,
            "grid_column": null,
            "overflow_y": null,
            "overflow_x": null,
            "grid_auto_flow": null,
            "grid_area": null,
            "grid_template_columns": null,
            "flex": null,
            "_model_name": "LayoutModel",
            "justify_items": null,
            "grid_row": null,
            "max_height": null,
            "align_content": null,
            "visibility": null,
            "align_self": null,
            "height": null,
            "min_height": null,
            "padding": null,
            "grid_auto_rows": null,
            "grid_gap": null,
            "max_width": null,
            "order": null,
            "_view_module_version": "1.2.0",
            "grid_template_areas": null,
            "object_position": null,
            "object_fit": null,
            "grid_auto_columns": null,
            "margin": null,
            "display": null,
            "left": null
          }
        },
        "9f8b8b08adc14f3f8d8d20d108c4f557": {
          "model_module": "@jupyter-widgets/controls",
          "model_name": "DescriptionStyleModel",
          "model_module_version": "1.5.0",
          "state": {
            "_view_name": "StyleView",
            "_model_name": "DescriptionStyleModel",
            "description_width": "",
            "_view_module": "@jupyter-widgets/base",
            "_model_module_version": "1.5.0",
            "_view_count": null,
            "_view_module_version": "1.2.0",
            "_model_module": "@jupyter-widgets/controls"
          }
        },
        "a3ae93a5a30b4dcaa705c9f923c78f82": {
          "model_module": "@jupyter-widgets/base",
          "model_name": "LayoutModel",
          "model_module_version": "1.2.0",
          "state": {
            "_view_name": "LayoutView",
            "grid_template_rows": null,
            "right": null,
            "justify_content": null,
            "_view_module": "@jupyter-widgets/base",
            "overflow": null,
            "_model_module_version": "1.2.0",
            "_view_count": null,
            "flex_flow": null,
            "width": null,
            "min_width": null,
            "border": null,
            "align_items": null,
            "bottom": null,
            "_model_module": "@jupyter-widgets/base",
            "top": null,
            "grid_column": null,
            "overflow_y": null,
            "overflow_x": null,
            "grid_auto_flow": null,
            "grid_area": null,
            "grid_template_columns": null,
            "flex": null,
            "_model_name": "LayoutModel",
            "justify_items": null,
            "grid_row": null,
            "max_height": null,
            "align_content": null,
            "visibility": null,
            "align_self": null,
            "height": null,
            "min_height": null,
            "padding": null,
            "grid_auto_rows": null,
            "grid_gap": null,
            "max_width": null,
            "order": null,
            "_view_module_version": "1.2.0",
            "grid_template_areas": null,
            "object_position": null,
            "object_fit": null,
            "grid_auto_columns": null,
            "margin": null,
            "display": null,
            "left": null
          }
        }
      }
    }
  },
  "cells": [
    {
      "cell_type": "markdown",
      "metadata": {
        "id": "jFftspceZ9D1"
      },
      "source": [
        "# Model -> https://huggingface.co/poom-sci/WangchanBERTa-finetuned-sentiment"
      ]
    },
    {
      "cell_type": "markdown",
      "metadata": {
        "id": "xdV-Jm_zDI2V"
      },
      "source": [
        "# Install Dependencies"
      ]
    },
    {
      "cell_type": "code",
      "metadata": {
        "colab": {
          "base_uri": "https://localhost:8080/"
        },
        "id": "KrlpYnKI9S4N",
        "outputId": "464552b1-6402-4658-b928-9b90d1fcd813"
      },
      "source": [
        "!pip install -q transformers transformers[sentencepiece] datasets"
      ],
      "execution_count": null,
      "outputs": [
        {
          "output_type": "stream",
          "name": "stdout",
          "text": [
            "\u001b[K     |████████████████████████████████| 3.1 MB 7.9 MB/s \n",
            "\u001b[K     |████████████████████████████████| 290 kB 70.2 MB/s \n",
            "\u001b[K     |████████████████████████████████| 895 kB 53.3 MB/s \n",
            "\u001b[K     |████████████████████████████████| 59 kB 9.2 MB/s \n",
            "\u001b[K     |████████████████████████████████| 596 kB 71.9 MB/s \n",
            "\u001b[K     |████████████████████████████████| 3.3 MB 66.0 MB/s \n",
            "\u001b[K     |████████████████████████████████| 243 kB 77.4 MB/s \n",
            "\u001b[K     |████████████████████████████████| 132 kB 77.0 MB/s \n",
            "\u001b[K     |████████████████████████████████| 1.1 MB 56.5 MB/s \n",
            "\u001b[K     |████████████████████████████████| 160 kB 72.0 MB/s \n",
            "\u001b[K     |████████████████████████████████| 271 kB 63.8 MB/s \n",
            "\u001b[K     |████████████████████████████████| 192 kB 77.3 MB/s \n",
            "\u001b[K     |████████████████████████████████| 1.2 MB 54.9 MB/s \n",
            "\u001b[?25h"
          ]
        }
      ]
    },
    {
      "cell_type": "code",
      "metadata": {
        "colab": {
          "base_uri": "https://localhost:8080/"
        },
        "id": "ZlxoRX0pivCa",
        "outputId": "8c84cced-078c-4b40-efaa-534ca16164ea"
      },
      "source": [
        "from google.colab import drive\n",
        "\n",
        "drive.mount('/content/gdrive')"
      ],
      "execution_count": null,
      "outputs": [
        {
          "output_type": "stream",
          "name": "stdout",
          "text": [
            "Mounted at /content/gdrive\n"
          ]
        }
      ]
    },
    {
      "cell_type": "code",
      "metadata": {
        "colab": {
          "base_uri": "https://localhost:8080/"
        },
        "id": "eGtVTx5hSUTv",
        "outputId": "92a743d2-0325-489e-8fe4-ab19a4d7bee7"
      },
      "source": [
        "!nvidia-smi"
      ],
      "execution_count": null,
      "outputs": [
        {
          "output_type": "stream",
          "name": "stdout",
          "text": [
            "Tue Nov  9 16:33:00 2021       \n",
            "+-----------------------------------------------------------------------------+\n",
            "| NVIDIA-SMI 495.44       Driver Version: 460.32.03    CUDA Version: 11.2     |\n",
            "|-------------------------------+----------------------+----------------------+\n",
            "| GPU  Name        Persistence-M| Bus-Id        Disp.A | Volatile Uncorr. ECC |\n",
            "| Fan  Temp  Perf  Pwr:Usage/Cap|         Memory-Usage | GPU-Util  Compute M. |\n",
            "|                               |                      |               MIG M. |\n",
            "|===============================+======================+======================|\n",
            "|   0  Tesla P100-PCIE...  Off  | 00000000:00:04.0 Off |                    0 |\n",
            "| N/A   33C    P0    26W / 250W |      0MiB / 16280MiB |      0%      Default |\n",
            "|                               |                      |                  N/A |\n",
            "+-------------------------------+----------------------+----------------------+\n",
            "                                                                               \n",
            "+-----------------------------------------------------------------------------+\n",
            "| Processes:                                                                  |\n",
            "|  GPU   GI   CI        PID   Type   Process name                  GPU Memory |\n",
            "|        ID   ID                                                   Usage      |\n",
            "|=============================================================================|\n",
            "|  No running processes found                                                 |\n",
            "+-----------------------------------------------------------------------------+\n"
          ]
        }
      ]
    },
    {
      "cell_type": "code",
      "metadata": {
        "id": "C4R2zvOE5qhi"
      },
      "source": [
        "# To control logging level for various modules used in the application:\n",
        "import logging\n",
        "import re\n",
        "def set_global_logging_level(level=logging.ERROR, prefices=[\"\"]):\n",
        "    \"\"\"\n",
        "    Override logging levels of different modules based on their name as a prefix.\n",
        "    It needs to be invoked after the modules have been loaded so that their loggers have been initialized.\n",
        "\n",
        "    Args:\n",
        "        - level: desired level. e.g. logging.INFO. Optional. Default is logging.ERROR\n",
        "        - prefices: list of one or more str prefices to match (e.g. [\"transformers\", \"torch\"]). Optional.\n",
        "          Default is `[\"\"]` to match all active loggers.\n",
        "          The match is a case-sensitive `module_name.startswith(prefix)`\n",
        "    \"\"\"\n",
        "    prefix_re = re.compile(fr'^(?:{ \"|\".join(prefices) })')\n",
        "    for name in logging.root.manager.loggerDict:\n",
        "        if re.match(prefix_re, name):\n",
        "            logging.getLogger(name).setLevel(level)\n",
        "\n",
        "set_global_logging_level(logging.ERROR, [\"transformers\", \"nlp\", \"torch\", \"tensorflow\", \"tensorboard\", \"wandb\"])"
      ],
      "execution_count": null,
      "outputs": []
    },
    {
      "cell_type": "markdown",
      "metadata": {
        "id": "etiWSyZ6ZSou"
      },
      "source": [
        "# Import Dependencies"
      ]
    },
    {
      "cell_type": "code",
      "metadata": {
        "id": "4_sA4UrbZTrW"
      },
      "source": [
        "import numpy as np\n",
        "import pandas as pd\n",
        "import seaborn as sns\n",
        "\n",
        "from datasets import (concatenate_datasets,\n",
        "                    Dataset,\n",
        "                    load_dataset,\n",
        "                    load_metric)\n",
        "\n",
        "from transformers import (AutoTokenizer, \n",
        "                        DataCollatorWithPadding,\n",
        "                        AutoModelForSequenceClassification,\n",
        "                        EarlyStoppingCallback,\n",
        "                        AdamW,\n",
        "                        get_cosine_schedule_with_warmup,\n",
        "                        pipeline,\n",
        "                        AutoModelForSequenceClassification,\n",
        "                        Trainer,\n",
        "                        TrainingArguments)\n",
        "\n",
        "from torch.optim.lr_scheduler import StepLR\n",
        "from transformers.optimization import Adafactor, AdafactorSchedule\n",
        "from sklearn.metrics import confusion_matrix,classification_report"
      ],
      "execution_count": null,
      "outputs": []
    },
    {
      "cell_type": "markdown",
      "metadata": {
        "id": "c_5mFIRU8v8_"
      },
      "source": [
        "# Declaration"
      ]
    },
    {
      "cell_type": "code",
      "metadata": {
        "id": "Ln6bgCTc7b1P"
      },
      "source": [
        "\n",
        "dataset_path='gdrive/MyDrive/nvidia/huggingface/dataset'\n",
        "dataset_name='/wongnai-wisesight'\n",
        "\n",
        "model_path='gdrive/MyDrive/nvidia/huggingface/AWS_REVIEW/wangchanberta_th_ws_lr-linear'\n",
        "model_name='/wangchanberta_th_ws_lr'\n",
        "\n",
        "checkpoint = \"airesearch/wangchanberta-base-att-spm-uncased\"\n",
        "\n",
        "test_model=model_path+model_name\n"
      ],
      "execution_count": null,
      "outputs": []
    },
    {
      "cell_type": "markdown",
      "metadata": {
        "id": "c7aUaxJDEv-e"
      },
      "source": [
        "# Data Preparation"
      ]
    },
    {
      "cell_type": "markdown",
      "metadata": {
        "id": "eyRqRUgU56bQ"
      },
      "source": [
        "## load new DATASET"
      ]
    },
    {
      "cell_type": "code",
      "metadata": {
        "id": "MXuValvK_v1h",
        "colab": {
          "base_uri": "https://localhost:8080/",
          "height": 164,
          "referenced_widgets": [
            "1aaa75add52c478d9f384aed06db4b39",
            "f1e1fa995b964a9fbe4b6708a28d6d77",
            "c9dbdf40cbb443f582bd4aae2f59c369",
            "ea371f120318471895c6af927fd4c35a",
            "382082e02c6e41dd95dda767f6138f1a",
            "50f8e05b13e54380b39483659faa286f",
            "2b9b933d068a43fda89761f20e294eb4",
            "24567c57c28d403981e20e8cfd0bffaa",
            "f01f84ea2afa43b1ae586ad38477f0c3",
            "31c7ae6566c94a2dbadf19258fd608dc",
            "a270a5291e5647b7842a908ae253d50d",
            "5a812f954c574447806edbe0d5573749",
            "114f03c8f4a44157bd3c6ada86b6c01c",
            "36846118cd014e978870d85171516371",
            "46b3290a40a442139b0c7c8c53b2f020",
            "47592d73e60b4ba39ec7ed001dde68eb",
            "39433a1ee08c4758be9a967c0dd06700",
            "b63721892fe64830b7ba0627442d21c8",
            "7c5f47b7f7704a6f93a1586a67d83ad2",
            "ec6627d6a86443278789ddf3eafb93b8",
            "583aa88c6af64a31844a673aab307c0e",
            "e17d6d13d7554cc9ac9c5d836dcb9da0",
            "0c9358431cd1481cac04572337869175",
            "23986927c31d4482b82e451e8842ed53",
            "9a79a02ee45040799eec192a937e6488",
            "65a0c722fde845f3b98dddf00afcc261",
            "88d6cb40a71e43538457527fad5d6f5c",
            "13aac520fbcb4a92bb397e5fca5f8669",
            "35da6d9de52640d9af0611f546898c34",
            "f398dc5f0e0f4d3790e824c85182287b",
            "d4673448303840b8b3fc80c54edc92de",
            "c1729ed025cf4817bea78f3827b62164",
            "ff7b0664073b415d8117bc73668ec9a0"
          ]
        },
        "outputId": "88db150e-2331-466a-d7a6-c4b76a82c421"
      },
      "source": [
        "# ----------------------------LOAD DATASET-------------------------\n",
        "\n",
        "df=pd.read_csv('/content/combined_csv (4).csv',lineterminator='\\n')\n",
        "df=df.rename(columns={'class':'labels','text':'texts'})\n",
        "\n",
        "def convert_labels(example):\n",
        "    if example['labels']==0:\n",
        "        example['labels'] = 2\n",
        "    elif example['labels']==1:\n",
        "        example['labels'] = 0\n",
        "    return example\n",
        "\n",
        "own_dataset = Dataset.from_pandas(df)\n",
        "own_dataset = own_dataset.map(convert_labels)\n",
        "\n",
        "\n",
        "\n",
        "def convert_stars_to_sentimental(example):\n",
        "    if example['labels']<2:\n",
        "        example['labels'] = 2\n",
        "    elif example['labels']==2:\n",
        "        example['labels'] = 1\n",
        "    else:\n",
        "        example['labels'] = 0\n",
        "    return example\n",
        "\n",
        "wongnai_datasets = load_dataset(\"wongnai_reviews\")\n",
        "wongnai_datasets = wongnai_datasets.rename_column(\"star_rating\", \"labels\")\n",
        "wongnai_datasets = wongnai_datasets.rename_column(\"review_body\", \"texts\")\n",
        "wongnai_datasets = wongnai_datasets.map(convert_stars_to_sentimental)\n",
        "wongnai_datasets['train']=concatenate_datasets([wongnai_datasets['train'],wongnai_datasets['test'].filter(lambda x,indices: indices<=2000,with_indices=True )])\n",
        "wongnai_datasets['validation']=wongnai_datasets['test'].filter(lambda x,indices: 2000<indices<=4000 ,with_indices=True )\n",
        "wongnai_datasets['test']=wongnai_datasets['test'].filter(lambda x,indices: indices>4000,with_indices=True )\n",
        "\n",
        "\n",
        "wisesight_dataset = load_dataset(\"wisesight_sentiment\")\n",
        "wisesight_dataset = wisesight_dataset.filter(lambda example: example['category']!=3)\n",
        "wisesight_dataset = wisesight_dataset.rename_column(\"category\", \"labels\")\n",
        "\n",
        "def convert_generated_reviews(example):\n",
        "    example['translation']=example['translation']['th']\n",
        "    if example['review_star']==3:\n",
        "        example['review_star']=1\n",
        "    elif example['review_star']<3:\n",
        "        example['review_star']=2\n",
        "    elif example['review_star']>3:\n",
        "        example['review_star']=0\n",
        "    return example\n",
        "\n",
        "generated_reviews_enth = load_dataset(\"generated_reviews_enth\").filter(lambda x,indices: x['correct']=='pos' ,with_indices=True)\n",
        "generated_reviews_enth = load_dataset(\"generated_reviews_enth\").filter(lambda x,indices: 0<x['review_star']<6,with_indices=True)\n",
        "generated_reviews_enth = generated_reviews_enth.map(convert_generated_reviews)\n",
        "generated_reviews_enth=generated_reviews_enth.rename_column('review_star','labels')\n",
        "generated_reviews_enth=generated_reviews_enth.rename_column('translation','texts')\n",
        "generated_reviews_enth=generated_reviews_enth.remove_columns(['correct'])\n",
        "\n",
        "# # ----------------------------CAST DATA FEATURE-------------------------\n",
        "\n",
        "own_dataset=own_dataset.cast(wisesight_dataset['test'].features)\n",
        "generated_reviews_enth=generated_reviews_enth.cast(wongnai_datasets['test'].features)\n",
        "\n",
        "# # ----------------------------CONCAT TRAIN-------------------------\n",
        "\n",
        "th_sentimental_corpus=wisesight_dataset\n",
        "\n",
        "th_sentimental_corpus['train']= concatenate_datasets([own_dataset,wisesight_dataset['train']]).shuffle(seed=42)\n",
        "th_sentimental_corpus['validation']=concatenate_datasets([wisesight_dataset['validation']])\n",
        "th_sentimental_corpus['test']=concatenate_datasets([wisesight_dataset['test']])\n",
        "\n",
        "th_sentimental_corpus.save_to_disk(dataset_path+dataset_name)"
      ],
      "execution_count": null,
      "outputs": [
        {
          "output_type": "display_data",
          "data": {
            "application/vnd.jupyter.widget-view+json": {
              "model_id": "1aaa75add52c478d9f384aed06db4b39",
              "version_minor": 0,
              "version_major": 2
            },
            "text/plain": [
              "  0%|          | 0/1048 [00:00<?, ?ex/s]"
            ]
          },
          "metadata": {}
        },
        {
          "output_type": "stream",
          "name": "stderr",
          "text": [
            "Reusing dataset wisesight_sentiment (/root/.cache/huggingface/datasets/wisesight_sentiment/wisesight_sentiment/1.0.0/fc2b1bdfe79571b2e281e4afdb5aac069cf9270bf0f85694239be672a4191969)\n"
          ]
        },
        {
          "output_type": "display_data",
          "data": {
            "application/vnd.jupyter.widget-view+json": {
              "model_id": "5a812f954c574447806edbe0d5573749",
              "version_minor": 0,
              "version_major": 2
            },
            "text/plain": [
              "  0%|          | 0/3 [00:00<?, ?it/s]"
            ]
          },
          "metadata": {}
        },
        {
          "output_type": "display_data",
          "data": {
            "application/vnd.jupyter.widget-view+json": {
              "model_id": "0c9358431cd1481cac04572337869175",
              "version_minor": 0,
              "version_major": 2
            },
            "text/plain": [
              "Casting the dataset:   0%|          | 0/1 [00:00<?, ?ba/s]"
            ]
          },
          "metadata": {}
        },
        {
          "output_type": "stream",
          "name": "stderr",
          "text": [
            "Loading cached shuffled indices for dataset at /root/.cache/huggingface/datasets/wisesight_sentiment/wisesight_sentiment/1.0.0/fc2b1bdfe79571b2e281e4afdb5aac069cf9270bf0f85694239be672a4191969/cache-212cfe55ce96de07.arrow\n",
            "Loading cached processed dataset at /root/.cache/huggingface/datasets/wisesight_sentiment/wisesight_sentiment/1.0.0/fc2b1bdfe79571b2e281e4afdb5aac069cf9270bf0f85694239be672a4191969/cache-b65b6cd582aa76cf.arrow\n"
          ]
        }
      ]
    },
    {
      "cell_type": "markdown",
      "metadata": {
        "id": "ZCq-NcPM69Eo"
      },
      "source": [
        "## load from local"
      ]
    },
    {
      "cell_type": "code",
      "metadata": {
        "id": "Q4LnheCi5_yY"
      },
      "source": [
        "# wisesight_dataset = load_dataset(\"wisesight_sentiment\")\n",
        "# wisesight_dataset = wisesight_dataset.filter(lambda example: example['category']!=3)\n",
        "# wisesight_dataset = wisesight_dataset.rename_column(\"category\", \"labels\")\n",
        "# th_sentimental_corpus=wisesight_dataset\n",
        "# th_sentimental_corpus = th_sentimental_corpus.load_from_disk(dataset_path+dataset_name)"
      ],
      "execution_count": null,
      "outputs": []
    },
    {
      "cell_type": "markdown",
      "metadata": {
        "id": "k350XzRT9Jog"
      },
      "source": [
        "## Dataset Structure"
      ]
    },
    {
      "cell_type": "code",
      "metadata": {
        "colab": {
          "base_uri": "https://localhost:8080/"
        },
        "id": "D_9EaMK2VcqI",
        "outputId": "44aedc08-aa0d-4fe7-c06f-608fb8ed75dd"
      },
      "source": [
        "th_sentimental_corpus"
      ],
      "execution_count": null,
      "outputs": [
        {
          "output_type": "execute_result",
          "data": {
            "text/plain": [
              "DatasetDict({\n",
              "    train: Dataset({\n",
              "        features: ['texts', 'labels'],\n",
              "        num_rows: 22676\n",
              "    })\n",
              "    validation: Dataset({\n",
              "        features: ['texts', 'labels'],\n",
              "        num_rows: 2404\n",
              "    })\n",
              "    test: Dataset({\n",
              "        features: ['texts', 'labels'],\n",
              "        num_rows: 2671\n",
              "    })\n",
              "})"
            ]
          },
          "metadata": {},
          "execution_count": 8
        }
      ]
    },
    {
      "cell_type": "markdown",
      "metadata": {
        "id": "Tt6lT4I3EzMW"
      },
      "source": [
        "## Tokenize Text"
      ]
    },
    {
      "cell_type": "code",
      "metadata": {
        "colab": {
          "base_uri": "https://localhost:8080/",
          "height": 83,
          "referenced_widgets": [
            "373e354210c242a09fc7241a8ade5583",
            "6711b17533fc4982997fa8b890b681b2",
            "3e149e6062714aba8d62c427614587d1",
            "32fc1057f15a4ae480d2bf95037cb274",
            "7849e8fba58542689d2dc705ef824322",
            "bbf0d3cac5e84cf5b3e6e79e2cea96c8",
            "67d5fd1f7308448f912c6704abce7dcb",
            "9624abf781c64154ad808cec000419f4",
            "e0d6972c434b4998bb52069259f0cef5",
            "9f8b8b08adc14f3f8d8d20d108c4f557",
            "a3ae93a5a30b4dcaa705c9f923c78f82"
          ]
        },
        "id": "sGcD007omNyr",
        "outputId": "b8d7ba53-8893-4220-d057-207b9dcc805b"
      },
      "source": [
        "tokenizer = AutoTokenizer.from_pretrained(checkpoint)\n",
        "\n",
        "def tokenize_function(example):\n",
        "    return tokenizer(example[\"texts\"],max_length=510,truncation=True)\n",
        "\n",
        "tokenized_datasets = th_sentimental_corpus.map(tokenize_function, batched=True)\n",
        "data_collator = DataCollatorWithPadding(tokenizer=tokenizer)"
      ],
      "execution_count": null,
      "outputs": [
        {
          "output_type": "stream",
          "name": "stderr",
          "text": [
            "Loading cached processed dataset at /root/.cache/huggingface/datasets/wisesight_sentiment/wisesight_sentiment/1.0.0/fc2b1bdfe79571b2e281e4afdb5aac069cf9270bf0f85694239be672a4191969/cache-abe4348309306129.arrow\n"
          ]
        },
        {
          "output_type": "display_data",
          "data": {
            "application/vnd.jupyter.widget-view+json": {
              "model_id": "373e354210c242a09fc7241a8ade5583",
              "version_minor": 0,
              "version_major": 2
            },
            "text/plain": [
              "  0%|          | 0/3 [00:00<?, ?ba/s]"
            ]
          },
          "metadata": {}
        },
        {
          "output_type": "stream",
          "name": "stderr",
          "text": [
            "Loading cached processed dataset at /root/.cache/huggingface/datasets/wisesight_sentiment/wisesight_sentiment/1.0.0/fc2b1bdfe79571b2e281e4afdb5aac069cf9270bf0f85694239be672a4191969/cache-5238b872e25bb268.arrow\n"
          ]
        }
      ]
    },
    {
      "cell_type": "code",
      "metadata": {
        "id": "8Y2d6o0vmweG"
      },
      "source": [
        "# tokenized_datasets=tokenized_datasets.remove_columns(['texts'])"
      ],
      "execution_count": null,
      "outputs": []
    },
    {
      "cell_type": "markdown",
      "metadata": {
        "id": "Ny4-Qq_nZnnO"
      },
      "source": [
        "# Training Model"
      ]
    },
    {
      "cell_type": "markdown",
      "metadata": {
        "id": "i2W4qCwZZprI"
      },
      "source": [
        "## Set Training Argument"
      ]
    },
    {
      "cell_type": "code",
      "metadata": {
        "id": "_bZELJ9_reBA"
      },
      "source": [
        "training_args=TrainingArguments(\n",
        "    per_device_train_batch_size=16,\n",
        "    per_device_eval_batch_size=16,\n",
        "    num_train_epochs=4,\n",
        "    learning_rate=2e-5,\n",
        "    weight_decay=0.01,\n",
        "    save_steps=200,\n",
        "    overwrite_output_dir=True,\n",
        "    output_dir=model_path,\n",
        "    logging_dir=model_path+'/logs',\n",
        "    load_best_model_at_end =True,\n",
        "    evaluation_strategy ='steps',\n",
        "    eval_steps = 200,\n",
        "    metric_for_best_model ='eval_loss',\n",
        "    greater_is_better=False,\n",
        "    logging_steps=200,\n",
        "    warmup_steps=400,\n",
        "    remove_unused_columns=True,\n",
        "    hub_model_id ='poom-sci/WangchanBERTa-finetuned-sentiment',\n",
        "    # dataloader_num_workers=0\n",
        "    # hub_token ='OZGWlaSJuzSEImyTFrJYpERzXPXEWzdvSSETiUrUhvwIxzKdKpldtLLTEUKAeuXSDigMRjaizmwKPOxALNdkMUVotAAOIDOQodCQOAvcGtQktukwcPkSbxiZCroAjeHV',\n",
        "    # push_to_hub=True\n",
        "    # report_to =None,\n",
        "    # lr_scheduler_type='polynomial'\n",
        ")"
      ],
      "execution_count": null,
      "outputs": []
    },
    {
      "cell_type": "markdown",
      "metadata": {
        "id": "MC5xUVKK3tdB"
      },
      "source": [
        "## model setup with optimizer and lr_scheduler"
      ]
    },
    {
      "cell_type": "code",
      "metadata": {
        "colab": {
          "base_uri": "https://localhost:8080/"
        },
        "id": "Y1aOLxj6rU5Y",
        "outputId": "41e6b7ba-2f38-4ae3-8bd1-00465f0f4381"
      },
      "source": [
        "model = AutoModelForSequenceClassification.from_pretrained(checkpoint, num_labels=4,ignore_mismatched_sizes=True)\n",
        "model.config.hidden_dropout_prob=0.2\n",
        "model.config.classifier_dropout=0.2\n",
        "# print(model.config)\n",
        "# optimizer = AdamW(model.parameters(), \n",
        "#                   lr = training_args.learning_rate, \n",
        "#                   weight_decay=training_args.weight_decay)\n",
        "\n",
        "# lr_scheduler = get_cosine_schedule_with_warmup(optimizer,\n",
        "#                                                num_warmup_steps=training_args.warmup_steps,\n",
        "#                                                num_training_steps=round(len(tokenized_datasets['train'])/training_args.per_device_train_batch_size)* training_args.num_train_epochs )\n",
        "\n",
        "# optimizer = Adafactor(model.parameters(),\n",
        "#                       relative_step=True, \n",
        "#                       warmup_init=True, \n",
        "#                       lr=None,\n",
        "#                       scale_parameter =True,\n",
        "#                       weight_decay=training_args.weight_decay)\n",
        "\n",
        "# lr_scheduler = AdafactorSchedule(optimizer,\n",
        "#                                  initial_lr=training_args.learning_rate)\n",
        "\n",
        "trainer = Trainer(\n",
        "    model,\n",
        "    training_args,\n",
        "    train_dataset=tokenized_datasets['train'],\n",
        "    eval_dataset=tokenized_datasets['validation'],\n",
        "    data_collator=data_collator,\n",
        "    tokenizer=tokenizer,\n",
        "    # callbacks = [EarlyStoppingCallback(early_stopping_patience = 4)],\n",
        "    # optimizers=(optimizer,lr_scheduler)\n",
        "    # compute_metrics=compute_metrics\n",
        ")\n",
        "\n",
        "model.config.label2id={'pos':0,'neu':1,'neg':2}\n",
        "model.config.id2label={0:'pos',1:'neu',2:'neg'}"
      ],
      "execution_count": null,
      "outputs": [
        {
          "output_type": "stream",
          "name": "stderr",
          "text": [
            "Some weights of the model checkpoint at airesearch/wangchanberta-base-att-spm-uncased were not used when initializing CamembertForSequenceClassification: ['roberta.pooler.dense.bias', 'lm_head.decoder.weight', 'lm_head.dense.weight', 'roberta.pooler.dense.weight', 'lm_head.decoder.bias', 'lm_head.layer_norm.weight', 'lm_head.dense.bias', 'lm_head.layer_norm.bias', 'lm_head.bias']\n",
            "- This IS expected if you are initializing CamembertForSequenceClassification from the checkpoint of a model trained on another task or with another architecture (e.g. initializing a BertForSequenceClassification model from a BertForPreTraining model).\n",
            "- This IS NOT expected if you are initializing CamembertForSequenceClassification from the checkpoint of a model that you expect to be exactly identical (initializing a BertForSequenceClassification model from a BertForSequenceClassification model).\n",
            "Some weights of CamembertForSequenceClassification were not initialized from the model checkpoint at airesearch/wangchanberta-base-att-spm-uncased and are newly initialized: ['classifier.out_proj.weight', 'classifier.dense.bias', 'classifier.dense.weight', 'classifier.out_proj.bias']\n",
            "You should probably TRAIN this model on a down-stream task to be able to use it for predictions and inference.\n"
          ]
        }
      ]
    },
    {
      "cell_type": "markdown",
      "metadata": {
        "id": "3UrLgR3EE7DF"
      },
      "source": [
        "## Start Training"
      ]
    },
    {
      "cell_type": "code",
      "metadata": {
        "colab": {
          "base_uri": "https://localhost:8080/",
          "height": 1000
        },
        "id": "dk7iM4Z4wJ_R",
        "outputId": "d1d10560-1ef3-4edb-b7fd-394b852f9c35"
      },
      "source": [
        "trainer.train(resume_from_checkpoint=False)"
      ],
      "execution_count": null,
      "outputs": [
        {
          "output_type": "stream",
          "name": "stderr",
          "text": [
            "The following columns in the training set  don't have a corresponding argument in `CamembertForSequenceClassification.forward` and have been ignored: texts.\n",
            "***** Running training *****\n",
            "  Num examples = 22676\n",
            "  Num Epochs = 4\n",
            "  Instantaneous batch size per device = 16\n",
            "  Total train batch size (w. parallel, distributed & accumulation) = 16\n",
            "  Gradient Accumulation steps = 1\n",
            "  Total optimization steps = 5672\n"
          ]
        },
        {
          "output_type": "display_data",
          "data": {
            "text/html": [
              "\n",
              "    <div>\n",
              "      \n",
              "      <progress value='5672' max='5672' style='width:300px; height:20px; vertical-align: middle;'></progress>\n",
              "      [5672/5672 36:18, Epoch 4/4]\n",
              "    </div>\n",
              "    <table border=\"1\" class=\"dataframe\">\n",
              "  <thead>\n",
              "    <tr style=\"text-align: left;\">\n",
              "      <th>Step</th>\n",
              "      <th>Training Loss</th>\n",
              "      <th>Validation Loss</th>\n",
              "    </tr>\n",
              "  </thead>\n",
              "  <tbody>\n",
              "    <tr>\n",
              "      <td>200</td>\n",
              "      <td>1.189000</td>\n",
              "      <td>1.018608</td>\n",
              "    </tr>\n",
              "    <tr>\n",
              "      <td>400</td>\n",
              "      <td>0.956000</td>\n",
              "      <td>0.856169</td>\n",
              "    </tr>\n",
              "    <tr>\n",
              "      <td>600</td>\n",
              "      <td>0.815900</td>\n",
              "      <td>0.787246</td>\n",
              "    </tr>\n",
              "    <tr>\n",
              "      <td>800</td>\n",
              "      <td>0.705100</td>\n",
              "      <td>0.707190</td>\n",
              "    </tr>\n",
              "    <tr>\n",
              "      <td>1000</td>\n",
              "      <td>0.705600</td>\n",
              "      <td>0.743538</td>\n",
              "    </tr>\n",
              "    <tr>\n",
              "      <td>1200</td>\n",
              "      <td>0.728900</td>\n",
              "      <td>0.729818</td>\n",
              "    </tr>\n",
              "    <tr>\n",
              "      <td>1400</td>\n",
              "      <td>0.701400</td>\n",
              "      <td>0.719107</td>\n",
              "    </tr>\n",
              "    <tr>\n",
              "      <td>1600</td>\n",
              "      <td>0.649800</td>\n",
              "      <td>0.671076</td>\n",
              "    </tr>\n",
              "    <tr>\n",
              "      <td>1800</td>\n",
              "      <td>0.608100</td>\n",
              "      <td>0.647969</td>\n",
              "    </tr>\n",
              "    <tr>\n",
              "      <td>2000</td>\n",
              "      <td>0.593000</td>\n",
              "      <td>0.638952</td>\n",
              "    </tr>\n",
              "    <tr>\n",
              "      <td>2200</td>\n",
              "      <td>0.558000</td>\n",
              "      <td>0.634058</td>\n",
              "    </tr>\n",
              "    <tr>\n",
              "      <td>2400</td>\n",
              "      <td>0.586800</td>\n",
              "      <td>0.619688</td>\n",
              "    </tr>\n",
              "    <tr>\n",
              "      <td>2600</td>\n",
              "      <td>0.546700</td>\n",
              "      <td>0.621904</td>\n",
              "    </tr>\n",
              "    <tr>\n",
              "      <td>2800</td>\n",
              "      <td>0.532100</td>\n",
              "      <td>0.623596</td>\n",
              "    </tr>\n",
              "    <tr>\n",
              "      <td>3000</td>\n",
              "      <td>0.484000</td>\n",
              "      <td>0.649254</td>\n",
              "    </tr>\n",
              "    <tr>\n",
              "      <td>3200</td>\n",
              "      <td>0.465100</td>\n",
              "      <td>0.657392</td>\n",
              "    </tr>\n",
              "    <tr>\n",
              "      <td>3400</td>\n",
              "      <td>0.466400</td>\n",
              "      <td>0.658313</td>\n",
              "    </tr>\n",
              "    <tr>\n",
              "      <td>3600</td>\n",
              "      <td>0.450300</td>\n",
              "      <td>0.652839</td>\n",
              "    </tr>\n",
              "    <tr>\n",
              "      <td>3800</td>\n",
              "      <td>0.461000</td>\n",
              "      <td>0.642831</td>\n",
              "    </tr>\n",
              "    <tr>\n",
              "      <td>4000</td>\n",
              "      <td>0.452800</td>\n",
              "      <td>0.652913</td>\n",
              "    </tr>\n",
              "    <tr>\n",
              "      <td>4200</td>\n",
              "      <td>0.443100</td>\n",
              "      <td>0.650244</td>\n",
              "    </tr>\n",
              "    <tr>\n",
              "      <td>4400</td>\n",
              "      <td>0.408000</td>\n",
              "      <td>0.658767</td>\n",
              "    </tr>\n",
              "    <tr>\n",
              "      <td>4600</td>\n",
              "      <td>0.389700</td>\n",
              "      <td>0.666482</td>\n",
              "    </tr>\n",
              "    <tr>\n",
              "      <td>4800</td>\n",
              "      <td>0.394600</td>\n",
              "      <td>0.675306</td>\n",
              "    </tr>\n",
              "    <tr>\n",
              "      <td>5000</td>\n",
              "      <td>0.376500</td>\n",
              "      <td>0.683073</td>\n",
              "    </tr>\n",
              "    <tr>\n",
              "      <td>5200</td>\n",
              "      <td>0.377100</td>\n",
              "      <td>0.680002</td>\n",
              "    </tr>\n",
              "    <tr>\n",
              "      <td>5400</td>\n",
              "      <td>0.381400</td>\n",
              "      <td>0.689196</td>\n",
              "    </tr>\n",
              "    <tr>\n",
              "      <td>5600</td>\n",
              "      <td>0.381500</td>\n",
              "      <td>0.686813</td>\n",
              "    </tr>\n",
              "  </tbody>\n",
              "</table><p>"
            ],
            "text/plain": [
              "<IPython.core.display.HTML object>"
            ]
          },
          "metadata": {}
        },
        {
          "output_type": "stream",
          "name": "stderr",
          "text": [
            "The following columns in the evaluation set  don't have a corresponding argument in `CamembertForSequenceClassification.forward` and have been ignored: texts.\n",
            "***** Running Evaluation *****\n",
            "  Num examples = 2404\n",
            "  Batch size = 16\n",
            "Saving model checkpoint to gdrive/MyDrive/nvidia/huggingface/AWS_REVIEW/wangchanberta_th_ws_lr-linear/checkpoint-200\n",
            "Configuration saved in gdrive/MyDrive/nvidia/huggingface/AWS_REVIEW/wangchanberta_th_ws_lr-linear/checkpoint-200/config.json\n",
            "Model weights saved in gdrive/MyDrive/nvidia/huggingface/AWS_REVIEW/wangchanberta_th_ws_lr-linear/checkpoint-200/pytorch_model.bin\n",
            "tokenizer config file saved in gdrive/MyDrive/nvidia/huggingface/AWS_REVIEW/wangchanberta_th_ws_lr-linear/checkpoint-200/tokenizer_config.json\n",
            "Special tokens file saved in gdrive/MyDrive/nvidia/huggingface/AWS_REVIEW/wangchanberta_th_ws_lr-linear/checkpoint-200/special_tokens_map.json\n",
            "The following columns in the evaluation set  don't have a corresponding argument in `CamembertForSequenceClassification.forward` and have been ignored: texts.\n",
            "***** Running Evaluation *****\n",
            "  Num examples = 2404\n",
            "  Batch size = 16\n",
            "Saving model checkpoint to gdrive/MyDrive/nvidia/huggingface/AWS_REVIEW/wangchanberta_th_ws_lr-linear/checkpoint-400\n",
            "Configuration saved in gdrive/MyDrive/nvidia/huggingface/AWS_REVIEW/wangchanberta_th_ws_lr-linear/checkpoint-400/config.json\n",
            "Model weights saved in gdrive/MyDrive/nvidia/huggingface/AWS_REVIEW/wangchanberta_th_ws_lr-linear/checkpoint-400/pytorch_model.bin\n",
            "tokenizer config file saved in gdrive/MyDrive/nvidia/huggingface/AWS_REVIEW/wangchanberta_th_ws_lr-linear/checkpoint-400/tokenizer_config.json\n",
            "Special tokens file saved in gdrive/MyDrive/nvidia/huggingface/AWS_REVIEW/wangchanberta_th_ws_lr-linear/checkpoint-400/special_tokens_map.json\n",
            "The following columns in the evaluation set  don't have a corresponding argument in `CamembertForSequenceClassification.forward` and have been ignored: texts.\n",
            "***** Running Evaluation *****\n",
            "  Num examples = 2404\n",
            "  Batch size = 16\n",
            "Saving model checkpoint to gdrive/MyDrive/nvidia/huggingface/AWS_REVIEW/wangchanberta_th_ws_lr-linear/checkpoint-600\n",
            "Configuration saved in gdrive/MyDrive/nvidia/huggingface/AWS_REVIEW/wangchanberta_th_ws_lr-linear/checkpoint-600/config.json\n",
            "Model weights saved in gdrive/MyDrive/nvidia/huggingface/AWS_REVIEW/wangchanberta_th_ws_lr-linear/checkpoint-600/pytorch_model.bin\n",
            "tokenizer config file saved in gdrive/MyDrive/nvidia/huggingface/AWS_REVIEW/wangchanberta_th_ws_lr-linear/checkpoint-600/tokenizer_config.json\n",
            "Special tokens file saved in gdrive/MyDrive/nvidia/huggingface/AWS_REVIEW/wangchanberta_th_ws_lr-linear/checkpoint-600/special_tokens_map.json\n",
            "The following columns in the evaluation set  don't have a corresponding argument in `CamembertForSequenceClassification.forward` and have been ignored: texts.\n",
            "***** Running Evaluation *****\n",
            "  Num examples = 2404\n",
            "  Batch size = 16\n",
            "Saving model checkpoint to gdrive/MyDrive/nvidia/huggingface/AWS_REVIEW/wangchanberta_th_ws_lr-linear/checkpoint-800\n",
            "Configuration saved in gdrive/MyDrive/nvidia/huggingface/AWS_REVIEW/wangchanberta_th_ws_lr-linear/checkpoint-800/config.json\n",
            "Model weights saved in gdrive/MyDrive/nvidia/huggingface/AWS_REVIEW/wangchanberta_th_ws_lr-linear/checkpoint-800/pytorch_model.bin\n",
            "tokenizer config file saved in gdrive/MyDrive/nvidia/huggingface/AWS_REVIEW/wangchanberta_th_ws_lr-linear/checkpoint-800/tokenizer_config.json\n",
            "Special tokens file saved in gdrive/MyDrive/nvidia/huggingface/AWS_REVIEW/wangchanberta_th_ws_lr-linear/checkpoint-800/special_tokens_map.json\n",
            "The following columns in the evaluation set  don't have a corresponding argument in `CamembertForSequenceClassification.forward` and have been ignored: texts.\n",
            "***** Running Evaluation *****\n",
            "  Num examples = 2404\n",
            "  Batch size = 16\n",
            "Saving model checkpoint to gdrive/MyDrive/nvidia/huggingface/AWS_REVIEW/wangchanberta_th_ws_lr-linear/checkpoint-1000\n",
            "Configuration saved in gdrive/MyDrive/nvidia/huggingface/AWS_REVIEW/wangchanberta_th_ws_lr-linear/checkpoint-1000/config.json\n",
            "Model weights saved in gdrive/MyDrive/nvidia/huggingface/AWS_REVIEW/wangchanberta_th_ws_lr-linear/checkpoint-1000/pytorch_model.bin\n",
            "tokenizer config file saved in gdrive/MyDrive/nvidia/huggingface/AWS_REVIEW/wangchanberta_th_ws_lr-linear/checkpoint-1000/tokenizer_config.json\n",
            "Special tokens file saved in gdrive/MyDrive/nvidia/huggingface/AWS_REVIEW/wangchanberta_th_ws_lr-linear/checkpoint-1000/special_tokens_map.json\n",
            "The following columns in the evaluation set  don't have a corresponding argument in `CamembertForSequenceClassification.forward` and have been ignored: texts.\n",
            "***** Running Evaluation *****\n",
            "  Num examples = 2404\n",
            "  Batch size = 16\n",
            "Saving model checkpoint to gdrive/MyDrive/nvidia/huggingface/AWS_REVIEW/wangchanberta_th_ws_lr-linear/checkpoint-1200\n",
            "Configuration saved in gdrive/MyDrive/nvidia/huggingface/AWS_REVIEW/wangchanberta_th_ws_lr-linear/checkpoint-1200/config.json\n",
            "Model weights saved in gdrive/MyDrive/nvidia/huggingface/AWS_REVIEW/wangchanberta_th_ws_lr-linear/checkpoint-1200/pytorch_model.bin\n",
            "tokenizer config file saved in gdrive/MyDrive/nvidia/huggingface/AWS_REVIEW/wangchanberta_th_ws_lr-linear/checkpoint-1200/tokenizer_config.json\n",
            "Special tokens file saved in gdrive/MyDrive/nvidia/huggingface/AWS_REVIEW/wangchanberta_th_ws_lr-linear/checkpoint-1200/special_tokens_map.json\n",
            "The following columns in the evaluation set  don't have a corresponding argument in `CamembertForSequenceClassification.forward` and have been ignored: texts.\n",
            "***** Running Evaluation *****\n",
            "  Num examples = 2404\n",
            "  Batch size = 16\n",
            "Saving model checkpoint to gdrive/MyDrive/nvidia/huggingface/AWS_REVIEW/wangchanberta_th_ws_lr-linear/checkpoint-1400\n",
            "Configuration saved in gdrive/MyDrive/nvidia/huggingface/AWS_REVIEW/wangchanberta_th_ws_lr-linear/checkpoint-1400/config.json\n",
            "Model weights saved in gdrive/MyDrive/nvidia/huggingface/AWS_REVIEW/wangchanberta_th_ws_lr-linear/checkpoint-1400/pytorch_model.bin\n",
            "tokenizer config file saved in gdrive/MyDrive/nvidia/huggingface/AWS_REVIEW/wangchanberta_th_ws_lr-linear/checkpoint-1400/tokenizer_config.json\n",
            "Special tokens file saved in gdrive/MyDrive/nvidia/huggingface/AWS_REVIEW/wangchanberta_th_ws_lr-linear/checkpoint-1400/special_tokens_map.json\n",
            "The following columns in the evaluation set  don't have a corresponding argument in `CamembertForSequenceClassification.forward` and have been ignored: texts.\n",
            "***** Running Evaluation *****\n",
            "  Num examples = 2404\n",
            "  Batch size = 16\n",
            "Saving model checkpoint to gdrive/MyDrive/nvidia/huggingface/AWS_REVIEW/wangchanberta_th_ws_lr-linear/checkpoint-1600\n",
            "Configuration saved in gdrive/MyDrive/nvidia/huggingface/AWS_REVIEW/wangchanberta_th_ws_lr-linear/checkpoint-1600/config.json\n",
            "Model weights saved in gdrive/MyDrive/nvidia/huggingface/AWS_REVIEW/wangchanberta_th_ws_lr-linear/checkpoint-1600/pytorch_model.bin\n",
            "tokenizer config file saved in gdrive/MyDrive/nvidia/huggingface/AWS_REVIEW/wangchanberta_th_ws_lr-linear/checkpoint-1600/tokenizer_config.json\n",
            "Special tokens file saved in gdrive/MyDrive/nvidia/huggingface/AWS_REVIEW/wangchanberta_th_ws_lr-linear/checkpoint-1600/special_tokens_map.json\n",
            "The following columns in the evaluation set  don't have a corresponding argument in `CamembertForSequenceClassification.forward` and have been ignored: texts.\n",
            "***** Running Evaluation *****\n",
            "  Num examples = 2404\n",
            "  Batch size = 16\n",
            "Saving model checkpoint to gdrive/MyDrive/nvidia/huggingface/AWS_REVIEW/wangchanberta_th_ws_lr-linear/checkpoint-1800\n",
            "Configuration saved in gdrive/MyDrive/nvidia/huggingface/AWS_REVIEW/wangchanberta_th_ws_lr-linear/checkpoint-1800/config.json\n",
            "Model weights saved in gdrive/MyDrive/nvidia/huggingface/AWS_REVIEW/wangchanberta_th_ws_lr-linear/checkpoint-1800/pytorch_model.bin\n",
            "tokenizer config file saved in gdrive/MyDrive/nvidia/huggingface/AWS_REVIEW/wangchanberta_th_ws_lr-linear/checkpoint-1800/tokenizer_config.json\n",
            "Special tokens file saved in gdrive/MyDrive/nvidia/huggingface/AWS_REVIEW/wangchanberta_th_ws_lr-linear/checkpoint-1800/special_tokens_map.json\n",
            "The following columns in the evaluation set  don't have a corresponding argument in `CamembertForSequenceClassification.forward` and have been ignored: texts.\n",
            "***** Running Evaluation *****\n",
            "  Num examples = 2404\n",
            "  Batch size = 16\n",
            "Saving model checkpoint to gdrive/MyDrive/nvidia/huggingface/AWS_REVIEW/wangchanberta_th_ws_lr-linear/checkpoint-2000\n",
            "Configuration saved in gdrive/MyDrive/nvidia/huggingface/AWS_REVIEW/wangchanberta_th_ws_lr-linear/checkpoint-2000/config.json\n",
            "Model weights saved in gdrive/MyDrive/nvidia/huggingface/AWS_REVIEW/wangchanberta_th_ws_lr-linear/checkpoint-2000/pytorch_model.bin\n",
            "tokenizer config file saved in gdrive/MyDrive/nvidia/huggingface/AWS_REVIEW/wangchanberta_th_ws_lr-linear/checkpoint-2000/tokenizer_config.json\n",
            "Special tokens file saved in gdrive/MyDrive/nvidia/huggingface/AWS_REVIEW/wangchanberta_th_ws_lr-linear/checkpoint-2000/special_tokens_map.json\n",
            "The following columns in the evaluation set  don't have a corresponding argument in `CamembertForSequenceClassification.forward` and have been ignored: texts.\n",
            "***** Running Evaluation *****\n",
            "  Num examples = 2404\n",
            "  Batch size = 16\n",
            "Saving model checkpoint to gdrive/MyDrive/nvidia/huggingface/AWS_REVIEW/wangchanberta_th_ws_lr-linear/checkpoint-2200\n",
            "Configuration saved in gdrive/MyDrive/nvidia/huggingface/AWS_REVIEW/wangchanberta_th_ws_lr-linear/checkpoint-2200/config.json\n",
            "Model weights saved in gdrive/MyDrive/nvidia/huggingface/AWS_REVIEW/wangchanberta_th_ws_lr-linear/checkpoint-2200/pytorch_model.bin\n",
            "tokenizer config file saved in gdrive/MyDrive/nvidia/huggingface/AWS_REVIEW/wangchanberta_th_ws_lr-linear/checkpoint-2200/tokenizer_config.json\n",
            "Special tokens file saved in gdrive/MyDrive/nvidia/huggingface/AWS_REVIEW/wangchanberta_th_ws_lr-linear/checkpoint-2200/special_tokens_map.json\n",
            "The following columns in the evaluation set  don't have a corresponding argument in `CamembertForSequenceClassification.forward` and have been ignored: texts.\n",
            "***** Running Evaluation *****\n",
            "  Num examples = 2404\n",
            "  Batch size = 16\n",
            "Saving model checkpoint to gdrive/MyDrive/nvidia/huggingface/AWS_REVIEW/wangchanberta_th_ws_lr-linear/checkpoint-2400\n",
            "Configuration saved in gdrive/MyDrive/nvidia/huggingface/AWS_REVIEW/wangchanberta_th_ws_lr-linear/checkpoint-2400/config.json\n",
            "Model weights saved in gdrive/MyDrive/nvidia/huggingface/AWS_REVIEW/wangchanberta_th_ws_lr-linear/checkpoint-2400/pytorch_model.bin\n",
            "tokenizer config file saved in gdrive/MyDrive/nvidia/huggingface/AWS_REVIEW/wangchanberta_th_ws_lr-linear/checkpoint-2400/tokenizer_config.json\n",
            "Special tokens file saved in gdrive/MyDrive/nvidia/huggingface/AWS_REVIEW/wangchanberta_th_ws_lr-linear/checkpoint-2400/special_tokens_map.json\n",
            "The following columns in the evaluation set  don't have a corresponding argument in `CamembertForSequenceClassification.forward` and have been ignored: texts.\n",
            "***** Running Evaluation *****\n",
            "  Num examples = 2404\n",
            "  Batch size = 16\n",
            "Saving model checkpoint to gdrive/MyDrive/nvidia/huggingface/AWS_REVIEW/wangchanberta_th_ws_lr-linear/checkpoint-2600\n",
            "Configuration saved in gdrive/MyDrive/nvidia/huggingface/AWS_REVIEW/wangchanberta_th_ws_lr-linear/checkpoint-2600/config.json\n",
            "Model weights saved in gdrive/MyDrive/nvidia/huggingface/AWS_REVIEW/wangchanberta_th_ws_lr-linear/checkpoint-2600/pytorch_model.bin\n",
            "tokenizer config file saved in gdrive/MyDrive/nvidia/huggingface/AWS_REVIEW/wangchanberta_th_ws_lr-linear/checkpoint-2600/tokenizer_config.json\n",
            "Special tokens file saved in gdrive/MyDrive/nvidia/huggingface/AWS_REVIEW/wangchanberta_th_ws_lr-linear/checkpoint-2600/special_tokens_map.json\n",
            "The following columns in the evaluation set  don't have a corresponding argument in `CamembertForSequenceClassification.forward` and have been ignored: texts.\n",
            "***** Running Evaluation *****\n",
            "  Num examples = 2404\n",
            "  Batch size = 16\n",
            "Saving model checkpoint to gdrive/MyDrive/nvidia/huggingface/AWS_REVIEW/wangchanberta_th_ws_lr-linear/checkpoint-2800\n",
            "Configuration saved in gdrive/MyDrive/nvidia/huggingface/AWS_REVIEW/wangchanberta_th_ws_lr-linear/checkpoint-2800/config.json\n",
            "Model weights saved in gdrive/MyDrive/nvidia/huggingface/AWS_REVIEW/wangchanberta_th_ws_lr-linear/checkpoint-2800/pytorch_model.bin\n",
            "tokenizer config file saved in gdrive/MyDrive/nvidia/huggingface/AWS_REVIEW/wangchanberta_th_ws_lr-linear/checkpoint-2800/tokenizer_config.json\n",
            "Special tokens file saved in gdrive/MyDrive/nvidia/huggingface/AWS_REVIEW/wangchanberta_th_ws_lr-linear/checkpoint-2800/special_tokens_map.json\n",
            "The following columns in the evaluation set  don't have a corresponding argument in `CamembertForSequenceClassification.forward` and have been ignored: texts.\n",
            "***** Running Evaluation *****\n",
            "  Num examples = 2404\n",
            "  Batch size = 16\n",
            "Saving model checkpoint to gdrive/MyDrive/nvidia/huggingface/AWS_REVIEW/wangchanberta_th_ws_lr-linear/checkpoint-3000\n",
            "Configuration saved in gdrive/MyDrive/nvidia/huggingface/AWS_REVIEW/wangchanberta_th_ws_lr-linear/checkpoint-3000/config.json\n",
            "Model weights saved in gdrive/MyDrive/nvidia/huggingface/AWS_REVIEW/wangchanberta_th_ws_lr-linear/checkpoint-3000/pytorch_model.bin\n",
            "tokenizer config file saved in gdrive/MyDrive/nvidia/huggingface/AWS_REVIEW/wangchanberta_th_ws_lr-linear/checkpoint-3000/tokenizer_config.json\n",
            "Special tokens file saved in gdrive/MyDrive/nvidia/huggingface/AWS_REVIEW/wangchanberta_th_ws_lr-linear/checkpoint-3000/special_tokens_map.json\n",
            "The following columns in the evaluation set  don't have a corresponding argument in `CamembertForSequenceClassification.forward` and have been ignored: texts.\n",
            "***** Running Evaluation *****\n",
            "  Num examples = 2404\n",
            "  Batch size = 16\n",
            "Saving model checkpoint to gdrive/MyDrive/nvidia/huggingface/AWS_REVIEW/wangchanberta_th_ws_lr-linear/checkpoint-3200\n",
            "Configuration saved in gdrive/MyDrive/nvidia/huggingface/AWS_REVIEW/wangchanberta_th_ws_lr-linear/checkpoint-3200/config.json\n",
            "Model weights saved in gdrive/MyDrive/nvidia/huggingface/AWS_REVIEW/wangchanberta_th_ws_lr-linear/checkpoint-3200/pytorch_model.bin\n",
            "tokenizer config file saved in gdrive/MyDrive/nvidia/huggingface/AWS_REVIEW/wangchanberta_th_ws_lr-linear/checkpoint-3200/tokenizer_config.json\n",
            "Special tokens file saved in gdrive/MyDrive/nvidia/huggingface/AWS_REVIEW/wangchanberta_th_ws_lr-linear/checkpoint-3200/special_tokens_map.json\n",
            "The following columns in the evaluation set  don't have a corresponding argument in `CamembertForSequenceClassification.forward` and have been ignored: texts.\n",
            "***** Running Evaluation *****\n",
            "  Num examples = 2404\n",
            "  Batch size = 16\n",
            "Saving model checkpoint to gdrive/MyDrive/nvidia/huggingface/AWS_REVIEW/wangchanberta_th_ws_lr-linear/checkpoint-3400\n",
            "Configuration saved in gdrive/MyDrive/nvidia/huggingface/AWS_REVIEW/wangchanberta_th_ws_lr-linear/checkpoint-3400/config.json\n",
            "Model weights saved in gdrive/MyDrive/nvidia/huggingface/AWS_REVIEW/wangchanberta_th_ws_lr-linear/checkpoint-3400/pytorch_model.bin\n",
            "tokenizer config file saved in gdrive/MyDrive/nvidia/huggingface/AWS_REVIEW/wangchanberta_th_ws_lr-linear/checkpoint-3400/tokenizer_config.json\n",
            "Special tokens file saved in gdrive/MyDrive/nvidia/huggingface/AWS_REVIEW/wangchanberta_th_ws_lr-linear/checkpoint-3400/special_tokens_map.json\n",
            "The following columns in the evaluation set  don't have a corresponding argument in `CamembertForSequenceClassification.forward` and have been ignored: texts.\n",
            "***** Running Evaluation *****\n",
            "  Num examples = 2404\n",
            "  Batch size = 16\n",
            "Saving model checkpoint to gdrive/MyDrive/nvidia/huggingface/AWS_REVIEW/wangchanberta_th_ws_lr-linear/checkpoint-3600\n",
            "Configuration saved in gdrive/MyDrive/nvidia/huggingface/AWS_REVIEW/wangchanberta_th_ws_lr-linear/checkpoint-3600/config.json\n",
            "Model weights saved in gdrive/MyDrive/nvidia/huggingface/AWS_REVIEW/wangchanberta_th_ws_lr-linear/checkpoint-3600/pytorch_model.bin\n",
            "tokenizer config file saved in gdrive/MyDrive/nvidia/huggingface/AWS_REVIEW/wangchanberta_th_ws_lr-linear/checkpoint-3600/tokenizer_config.json\n",
            "Special tokens file saved in gdrive/MyDrive/nvidia/huggingface/AWS_REVIEW/wangchanberta_th_ws_lr-linear/checkpoint-3600/special_tokens_map.json\n",
            "The following columns in the evaluation set  don't have a corresponding argument in `CamembertForSequenceClassification.forward` and have been ignored: texts.\n",
            "***** Running Evaluation *****\n",
            "  Num examples = 2404\n",
            "  Batch size = 16\n",
            "Saving model checkpoint to gdrive/MyDrive/nvidia/huggingface/AWS_REVIEW/wangchanberta_th_ws_lr-linear/checkpoint-3800\n",
            "Configuration saved in gdrive/MyDrive/nvidia/huggingface/AWS_REVIEW/wangchanberta_th_ws_lr-linear/checkpoint-3800/config.json\n",
            "Model weights saved in gdrive/MyDrive/nvidia/huggingface/AWS_REVIEW/wangchanberta_th_ws_lr-linear/checkpoint-3800/pytorch_model.bin\n",
            "tokenizer config file saved in gdrive/MyDrive/nvidia/huggingface/AWS_REVIEW/wangchanberta_th_ws_lr-linear/checkpoint-3800/tokenizer_config.json\n",
            "Special tokens file saved in gdrive/MyDrive/nvidia/huggingface/AWS_REVIEW/wangchanberta_th_ws_lr-linear/checkpoint-3800/special_tokens_map.json\n",
            "The following columns in the evaluation set  don't have a corresponding argument in `CamembertForSequenceClassification.forward` and have been ignored: texts.\n",
            "***** Running Evaluation *****\n",
            "  Num examples = 2404\n",
            "  Batch size = 16\n",
            "Saving model checkpoint to gdrive/MyDrive/nvidia/huggingface/AWS_REVIEW/wangchanberta_th_ws_lr-linear/checkpoint-4000\n",
            "Configuration saved in gdrive/MyDrive/nvidia/huggingface/AWS_REVIEW/wangchanberta_th_ws_lr-linear/checkpoint-4000/config.json\n",
            "Model weights saved in gdrive/MyDrive/nvidia/huggingface/AWS_REVIEW/wangchanberta_th_ws_lr-linear/checkpoint-4000/pytorch_model.bin\n",
            "tokenizer config file saved in gdrive/MyDrive/nvidia/huggingface/AWS_REVIEW/wangchanberta_th_ws_lr-linear/checkpoint-4000/tokenizer_config.json\n",
            "Special tokens file saved in gdrive/MyDrive/nvidia/huggingface/AWS_REVIEW/wangchanberta_th_ws_lr-linear/checkpoint-4000/special_tokens_map.json\n",
            "The following columns in the evaluation set  don't have a corresponding argument in `CamembertForSequenceClassification.forward` and have been ignored: texts.\n",
            "***** Running Evaluation *****\n",
            "  Num examples = 2404\n",
            "  Batch size = 16\n",
            "Saving model checkpoint to gdrive/MyDrive/nvidia/huggingface/AWS_REVIEW/wangchanberta_th_ws_lr-linear/checkpoint-4200\n",
            "Configuration saved in gdrive/MyDrive/nvidia/huggingface/AWS_REVIEW/wangchanberta_th_ws_lr-linear/checkpoint-4200/config.json\n",
            "Model weights saved in gdrive/MyDrive/nvidia/huggingface/AWS_REVIEW/wangchanberta_th_ws_lr-linear/checkpoint-4200/pytorch_model.bin\n",
            "tokenizer config file saved in gdrive/MyDrive/nvidia/huggingface/AWS_REVIEW/wangchanberta_th_ws_lr-linear/checkpoint-4200/tokenizer_config.json\n",
            "Special tokens file saved in gdrive/MyDrive/nvidia/huggingface/AWS_REVIEW/wangchanberta_th_ws_lr-linear/checkpoint-4200/special_tokens_map.json\n",
            "The following columns in the evaluation set  don't have a corresponding argument in `CamembertForSequenceClassification.forward` and have been ignored: texts.\n",
            "***** Running Evaluation *****\n",
            "  Num examples = 2404\n",
            "  Batch size = 16\n",
            "Saving model checkpoint to gdrive/MyDrive/nvidia/huggingface/AWS_REVIEW/wangchanberta_th_ws_lr-linear/checkpoint-4400\n",
            "Configuration saved in gdrive/MyDrive/nvidia/huggingface/AWS_REVIEW/wangchanberta_th_ws_lr-linear/checkpoint-4400/config.json\n",
            "Model weights saved in gdrive/MyDrive/nvidia/huggingface/AWS_REVIEW/wangchanberta_th_ws_lr-linear/checkpoint-4400/pytorch_model.bin\n",
            "tokenizer config file saved in gdrive/MyDrive/nvidia/huggingface/AWS_REVIEW/wangchanberta_th_ws_lr-linear/checkpoint-4400/tokenizer_config.json\n",
            "Special tokens file saved in gdrive/MyDrive/nvidia/huggingface/AWS_REVIEW/wangchanberta_th_ws_lr-linear/checkpoint-4400/special_tokens_map.json\n",
            "The following columns in the evaluation set  don't have a corresponding argument in `CamembertForSequenceClassification.forward` and have been ignored: texts.\n",
            "***** Running Evaluation *****\n",
            "  Num examples = 2404\n",
            "  Batch size = 16\n",
            "Saving model checkpoint to gdrive/MyDrive/nvidia/huggingface/AWS_REVIEW/wangchanberta_th_ws_lr-linear/checkpoint-4600\n",
            "Configuration saved in gdrive/MyDrive/nvidia/huggingface/AWS_REVIEW/wangchanberta_th_ws_lr-linear/checkpoint-4600/config.json\n",
            "Model weights saved in gdrive/MyDrive/nvidia/huggingface/AWS_REVIEW/wangchanberta_th_ws_lr-linear/checkpoint-4600/pytorch_model.bin\n",
            "tokenizer config file saved in gdrive/MyDrive/nvidia/huggingface/AWS_REVIEW/wangchanberta_th_ws_lr-linear/checkpoint-4600/tokenizer_config.json\n",
            "Special tokens file saved in gdrive/MyDrive/nvidia/huggingface/AWS_REVIEW/wangchanberta_th_ws_lr-linear/checkpoint-4600/special_tokens_map.json\n",
            "The following columns in the evaluation set  don't have a corresponding argument in `CamembertForSequenceClassification.forward` and have been ignored: texts.\n",
            "***** Running Evaluation *****\n",
            "  Num examples = 2404\n",
            "  Batch size = 16\n",
            "Saving model checkpoint to gdrive/MyDrive/nvidia/huggingface/AWS_REVIEW/wangchanberta_th_ws_lr-linear/checkpoint-4800\n",
            "Configuration saved in gdrive/MyDrive/nvidia/huggingface/AWS_REVIEW/wangchanberta_th_ws_lr-linear/checkpoint-4800/config.json\n",
            "Model weights saved in gdrive/MyDrive/nvidia/huggingface/AWS_REVIEW/wangchanberta_th_ws_lr-linear/checkpoint-4800/pytorch_model.bin\n",
            "tokenizer config file saved in gdrive/MyDrive/nvidia/huggingface/AWS_REVIEW/wangchanberta_th_ws_lr-linear/checkpoint-4800/tokenizer_config.json\n",
            "Special tokens file saved in gdrive/MyDrive/nvidia/huggingface/AWS_REVIEW/wangchanberta_th_ws_lr-linear/checkpoint-4800/special_tokens_map.json\n",
            "The following columns in the evaluation set  don't have a corresponding argument in `CamembertForSequenceClassification.forward` and have been ignored: texts.\n",
            "***** Running Evaluation *****\n",
            "  Num examples = 2404\n",
            "  Batch size = 16\n",
            "Saving model checkpoint to gdrive/MyDrive/nvidia/huggingface/AWS_REVIEW/wangchanberta_th_ws_lr-linear/checkpoint-5000\n",
            "Configuration saved in gdrive/MyDrive/nvidia/huggingface/AWS_REVIEW/wangchanberta_th_ws_lr-linear/checkpoint-5000/config.json\n",
            "Model weights saved in gdrive/MyDrive/nvidia/huggingface/AWS_REVIEW/wangchanberta_th_ws_lr-linear/checkpoint-5000/pytorch_model.bin\n",
            "tokenizer config file saved in gdrive/MyDrive/nvidia/huggingface/AWS_REVIEW/wangchanberta_th_ws_lr-linear/checkpoint-5000/tokenizer_config.json\n",
            "Special tokens file saved in gdrive/MyDrive/nvidia/huggingface/AWS_REVIEW/wangchanberta_th_ws_lr-linear/checkpoint-5000/special_tokens_map.json\n",
            "The following columns in the evaluation set  don't have a corresponding argument in `CamembertForSequenceClassification.forward` and have been ignored: texts.\n",
            "***** Running Evaluation *****\n",
            "  Num examples = 2404\n",
            "  Batch size = 16\n",
            "Saving model checkpoint to gdrive/MyDrive/nvidia/huggingface/AWS_REVIEW/wangchanberta_th_ws_lr-linear/checkpoint-5200\n",
            "Configuration saved in gdrive/MyDrive/nvidia/huggingface/AWS_REVIEW/wangchanberta_th_ws_lr-linear/checkpoint-5200/config.json\n",
            "Model weights saved in gdrive/MyDrive/nvidia/huggingface/AWS_REVIEW/wangchanberta_th_ws_lr-linear/checkpoint-5200/pytorch_model.bin\n",
            "tokenizer config file saved in gdrive/MyDrive/nvidia/huggingface/AWS_REVIEW/wangchanberta_th_ws_lr-linear/checkpoint-5200/tokenizer_config.json\n",
            "Special tokens file saved in gdrive/MyDrive/nvidia/huggingface/AWS_REVIEW/wangchanberta_th_ws_lr-linear/checkpoint-5200/special_tokens_map.json\n",
            "The following columns in the evaluation set  don't have a corresponding argument in `CamembertForSequenceClassification.forward` and have been ignored: texts.\n",
            "***** Running Evaluation *****\n",
            "  Num examples = 2404\n",
            "  Batch size = 16\n",
            "Saving model checkpoint to gdrive/MyDrive/nvidia/huggingface/AWS_REVIEW/wangchanberta_th_ws_lr-linear/checkpoint-5400\n",
            "Configuration saved in gdrive/MyDrive/nvidia/huggingface/AWS_REVIEW/wangchanberta_th_ws_lr-linear/checkpoint-5400/config.json\n",
            "Model weights saved in gdrive/MyDrive/nvidia/huggingface/AWS_REVIEW/wangchanberta_th_ws_lr-linear/checkpoint-5400/pytorch_model.bin\n",
            "tokenizer config file saved in gdrive/MyDrive/nvidia/huggingface/AWS_REVIEW/wangchanberta_th_ws_lr-linear/checkpoint-5400/tokenizer_config.json\n",
            "Special tokens file saved in gdrive/MyDrive/nvidia/huggingface/AWS_REVIEW/wangchanberta_th_ws_lr-linear/checkpoint-5400/special_tokens_map.json\n",
            "The following columns in the evaluation set  don't have a corresponding argument in `CamembertForSequenceClassification.forward` and have been ignored: texts.\n",
            "***** Running Evaluation *****\n",
            "  Num examples = 2404\n",
            "  Batch size = 16\n",
            "Saving model checkpoint to gdrive/MyDrive/nvidia/huggingface/AWS_REVIEW/wangchanberta_th_ws_lr-linear/checkpoint-5600\n",
            "Configuration saved in gdrive/MyDrive/nvidia/huggingface/AWS_REVIEW/wangchanberta_th_ws_lr-linear/checkpoint-5600/config.json\n",
            "Model weights saved in gdrive/MyDrive/nvidia/huggingface/AWS_REVIEW/wangchanberta_th_ws_lr-linear/checkpoint-5600/pytorch_model.bin\n",
            "tokenizer config file saved in gdrive/MyDrive/nvidia/huggingface/AWS_REVIEW/wangchanberta_th_ws_lr-linear/checkpoint-5600/tokenizer_config.json\n",
            "Special tokens file saved in gdrive/MyDrive/nvidia/huggingface/AWS_REVIEW/wangchanberta_th_ws_lr-linear/checkpoint-5600/special_tokens_map.json\n",
            "\n",
            "\n",
            "Training completed. Do not forget to share your model on huggingface.co/models =)\n",
            "\n",
            "\n",
            "Loading best model from gdrive/MyDrive/nvidia/huggingface/AWS_REVIEW/wangchanberta_th_ws_lr-linear/checkpoint-2400 (score: 0.619688093662262).\n"
          ]
        },
        {
          "output_type": "execute_result",
          "data": {
            "text/plain": [
              "TrainOutput(global_step=5672, training_loss=0.5621380890037848, metrics={'train_runtime': 2179.0853, 'train_samples_per_second': 41.625, 'train_steps_per_second': 2.603, 'total_flos': 7056263657718912.0, 'train_loss': 0.5621380890037848, 'epoch': 4.0})"
            ]
          },
          "metadata": {},
          "execution_count": 13
        }
      ]
    },
    {
      "cell_type": "code",
      "metadata": {
        "colab": {
          "base_uri": "https://localhost:8080/",
          "height": 190
        },
        "id": "HCD4QbXx5NJn",
        "outputId": "041a0397-f812-4da3-ae42-70b16ba4f769"
      },
      "source": [
        "trainer.evaluate()"
      ],
      "execution_count": null,
      "outputs": [
        {
          "output_type": "stream",
          "name": "stderr",
          "text": [
            "The following columns in the evaluation set  don't have a corresponding argument in `CamembertForSequenceClassification.forward` and have been ignored: texts.\n",
            "***** Running Evaluation *****\n",
            "  Num examples = 2404\n",
            "  Batch size = 16\n"
          ]
        },
        {
          "output_type": "display_data",
          "data": {
            "text/html": [
              "\n",
              "    <div>\n",
              "      \n",
              "      <progress value='151' max='151' style='width:300px; height:20px; vertical-align: middle;'></progress>\n",
              "      [151/151 00:11]\n",
              "    </div>\n",
              "    "
            ],
            "text/plain": [
              "<IPython.core.display.HTML object>"
            ]
          },
          "metadata": {}
        },
        {
          "output_type": "execute_result",
          "data": {
            "text/plain": [
              "{'epoch': 4.0,\n",
              " 'eval_loss': 0.619688093662262,\n",
              " 'eval_runtime': 11.6704,\n",
              " 'eval_samples_per_second': 205.992,\n",
              " 'eval_steps_per_second': 12.939}"
            ]
          },
          "metadata": {},
          "execution_count": 14
        }
      ]
    },
    {
      "cell_type": "code",
      "metadata": {
        "colab": {
          "base_uri": "https://localhost:8080/"
        },
        "id": "cctofJwCWNYM",
        "outputId": "9017a598-7fe4-4290-93eb-704e82b7140d"
      },
      "source": [
        "trainer.save_model(model_path+model_name)"
      ],
      "execution_count": null,
      "outputs": [
        {
          "output_type": "stream",
          "name": "stderr",
          "text": [
            "Saving model checkpoint to gdrive/MyDrive/nvidia/huggingface/AWS_REVIEW/wangchanberta_th_ws_lr-linear/wangchanberta_th_ws_lr\n",
            "Configuration saved in gdrive/MyDrive/nvidia/huggingface/AWS_REVIEW/wangchanberta_th_ws_lr-linear/wangchanberta_th_ws_lr/config.json\n",
            "Model weights saved in gdrive/MyDrive/nvidia/huggingface/AWS_REVIEW/wangchanberta_th_ws_lr-linear/wangchanberta_th_ws_lr/pytorch_model.bin\n",
            "tokenizer config file saved in gdrive/MyDrive/nvidia/huggingface/AWS_REVIEW/wangchanberta_th_ws_lr-linear/wangchanberta_th_ws_lr/tokenizer_config.json\n",
            "Special tokens file saved in gdrive/MyDrive/nvidia/huggingface/AWS_REVIEW/wangchanberta_th_ws_lr-linear/wangchanberta_th_ws_lr/special_tokens_map.json\n"
          ]
        }
      ]
    },
    {
      "cell_type": "code",
      "metadata": {
        "colab": {
          "base_uri": "https://localhost:8080/"
        },
        "id": "ch5NPN-R5knu",
        "outputId": "3f0c956c-634a-46fa-8a0a-6cf5379cff17"
      },
      "source": [
        "trainer.save_model(model_name)"
      ],
      "execution_count": null,
      "outputs": [
        {
          "name": "stderr",
          "output_type": "stream",
          "text": [
            "Saving model checkpoint to /wangchanberta_th_sentiment_ALL\n",
            "Configuration saved in /wangchanberta_th_sentiment_ALL/config.json\n",
            "Model weights saved in /wangchanberta_th_sentiment_ALL/pytorch_model.bin\n",
            "tokenizer config file saved in /wangchanberta_th_sentiment_ALL/tokenizer_config.json\n",
            "Special tokens file saved in /wangchanberta_th_sentiment_ALL/special_tokens_map.json\n"
          ]
        }
      ]
    },
    {
      "cell_type": "code",
      "metadata": {
        "colab": {
          "base_uri": "https://localhost:8080/"
        },
        "id": "Tf1uhmQGF3GZ",
        "outputId": "36875fff-be09-406d-e765-1c15f972dbd0"
      },
      "source": [
        "!zip -r '/content/{model_name}.zip' '/content/{model_name}'"
      ],
      "execution_count": null,
      "outputs": [
        {
          "name": "stdout",
          "output_type": "stream",
          "text": [
            "\tzip warning: name not matched: /content//wangchanberta_th_sentiment_ALL\n",
            "\n",
            "zip error: Nothing to do! (try: zip -r /content//wangchanberta_th_sentiment_ALL.zip . -i /content//wangchanberta_th_sentiment_ALL)\n"
          ]
        }
      ]
    },
    {
      "cell_type": "markdown",
      "metadata": {
        "id": "kM2k9ynumDI-"
      },
      "source": [
        "# test model and visualize"
      ]
    },
    {
      "cell_type": "markdown",
      "metadata": {
        "id": "3EZkhhwOq3xy"
      },
      "source": [
        "## initialize model"
      ]
    },
    {
      "cell_type": "code",
      "metadata": {
        "colab": {
          "base_uri": "https://localhost:8080/",
          "height": 1000
        },
        "id": "wb3pr1efijv7",
        "outputId": "2203111b-492a-4b47-fd47-ed9068dbaadd"
      },
      "source": [
        "from transformers import AutoTokenizer\n",
        "\n",
        "sentiment_model = pipeline(\n",
        "    \"sentiment-analysis\",\n",
        "    model=test_model,\n",
        "    tokenizer=test_model\n",
        ")\n",
        "\n",
        "sentiment_model.model.config.id2label={0:'pos',1:'neu',2:'neg',3:'q'}\n"
      ],
      "execution_count": null,
      "outputs": [
        {
          "output_type": "stream",
          "name": "stderr",
          "text": [
            "loading configuration file gdrive/MyDrive/nvidia/huggingface/AWS_REVIEW/wangchanberta_th_ws_lr-linear/wangchanberta_th_ws_lr/config.json\n",
            "Model config CamembertConfig {\n",
            "  \"_name_or_path\": \"airesearch/wangchanberta-base-att-spm-uncased\",\n",
            "  \"architectures\": [\n",
            "    \"CamembertForSequenceClassification\"\n",
            "  ],\n",
            "  \"attention_probs_dropout_prob\": 0.1,\n",
            "  \"bos_token_id\": 0,\n",
            "  \"classifier_dropout\": 0.2,\n",
            "  \"eos_token_id\": 2,\n",
            "  \"gradient_checkpointing\": false,\n",
            "  \"hidden_act\": \"gelu\",\n",
            "  \"hidden_dropout_prob\": 0.2,\n",
            "  \"hidden_size\": 768,\n",
            "  \"id2label\": {\n",
            "    \"0\": \"pos\",\n",
            "    \"1\": \"neu\",\n",
            "    \"2\": \"neg\"\n",
            "  },\n",
            "  \"initializer_range\": 0.02,\n",
            "  \"intermediate_size\": 3072,\n",
            "  \"label2id\": {\n",
            "    \"neg\": 2,\n",
            "    \"neu\": 1,\n",
            "    \"pos\": 0\n",
            "  },\n",
            "  \"layer_norm_eps\": 1e-12,\n",
            "  \"max_position_embeddings\": 512,\n",
            "  \"model_type\": \"camembert\",\n",
            "  \"num_attention_head\": 12,\n",
            "  \"num_attention_heads\": 12,\n",
            "  \"num_hidden_layers\": 12,\n",
            "  \"pad_token_id\": 1,\n",
            "  \"position_embedding_type\": \"absolute\",\n",
            "  \"problem_type\": \"single_label_classification\",\n",
            "  \"torch_dtype\": \"float32\",\n",
            "  \"transformers_version\": \"4.12.3\",\n",
            "  \"type_vocab_size\": 1,\n",
            "  \"use_cache\": true,\n",
            "  \"vocab_size\": 25005\n",
            "}\n",
            "\n",
            "loading configuration file gdrive/MyDrive/nvidia/huggingface/AWS_REVIEW/wangchanberta_th_ws_lr-linear/wangchanberta_th_ws_lr/config.json\n",
            "Model config CamembertConfig {\n",
            "  \"_name_or_path\": \"airesearch/wangchanberta-base-att-spm-uncased\",\n",
            "  \"architectures\": [\n",
            "    \"CamembertForSequenceClassification\"\n",
            "  ],\n",
            "  \"attention_probs_dropout_prob\": 0.1,\n",
            "  \"bos_token_id\": 0,\n",
            "  \"classifier_dropout\": 0.2,\n",
            "  \"eos_token_id\": 2,\n",
            "  \"gradient_checkpointing\": false,\n",
            "  \"hidden_act\": \"gelu\",\n",
            "  \"hidden_dropout_prob\": 0.2,\n",
            "  \"hidden_size\": 768,\n",
            "  \"id2label\": {\n",
            "    \"0\": \"pos\",\n",
            "    \"1\": \"neu\",\n",
            "    \"2\": \"neg\"\n",
            "  },\n",
            "  \"initializer_range\": 0.02,\n",
            "  \"intermediate_size\": 3072,\n",
            "  \"label2id\": {\n",
            "    \"neg\": 2,\n",
            "    \"neu\": 1,\n",
            "    \"pos\": 0\n",
            "  },\n",
            "  \"layer_norm_eps\": 1e-12,\n",
            "  \"max_position_embeddings\": 512,\n",
            "  \"model_type\": \"camembert\",\n",
            "  \"num_attention_head\": 12,\n",
            "  \"num_attention_heads\": 12,\n",
            "  \"num_hidden_layers\": 12,\n",
            "  \"pad_token_id\": 1,\n",
            "  \"position_embedding_type\": \"absolute\",\n",
            "  \"problem_type\": \"single_label_classification\",\n",
            "  \"torch_dtype\": \"float32\",\n",
            "  \"transformers_version\": \"4.12.3\",\n",
            "  \"type_vocab_size\": 1,\n",
            "  \"use_cache\": true,\n",
            "  \"vocab_size\": 25005\n",
            "}\n",
            "\n",
            "loading weights file gdrive/MyDrive/nvidia/huggingface/AWS_REVIEW/wangchanberta_th_ws_lr-linear/wangchanberta_th_ws_lr/pytorch_model.bin\n"
          ]
        },
        {
          "output_type": "error",
          "ename": "RuntimeError",
          "evalue": "ignored",
          "traceback": [
            "\u001b[0;31m---------------------------------------------------------------------------\u001b[0m",
            "\u001b[0;31mRuntimeError\u001b[0m                              Traceback (most recent call last)",
            "\u001b[0;32m<ipython-input-20-a1ade9f99184>\u001b[0m in \u001b[0;36m<module>\u001b[0;34m()\u001b[0m\n\u001b[1;32m      4\u001b[0m     \u001b[0;34m\"sentiment-analysis\"\u001b[0m\u001b[0;34m,\u001b[0m\u001b[0;34m\u001b[0m\u001b[0;34m\u001b[0m\u001b[0m\n\u001b[1;32m      5\u001b[0m     \u001b[0mmodel\u001b[0m\u001b[0;34m=\u001b[0m\u001b[0mtest_model\u001b[0m\u001b[0;34m,\u001b[0m\u001b[0;34m\u001b[0m\u001b[0;34m\u001b[0m\u001b[0m\n\u001b[0;32m----> 6\u001b[0;31m     \u001b[0mtokenizer\u001b[0m\u001b[0;34m=\u001b[0m\u001b[0mtest_model\u001b[0m\u001b[0;34m\u001b[0m\u001b[0;34m\u001b[0m\u001b[0m\n\u001b[0m\u001b[1;32m      7\u001b[0m )\n\u001b[1;32m      8\u001b[0m \u001b[0;34m\u001b[0m\u001b[0m\n",
            "\u001b[0;32m/usr/local/lib/python3.7/dist-packages/transformers/pipelines/__init__.py\u001b[0m in \u001b[0;36mpipeline\u001b[0;34m(task, model, config, tokenizer, feature_extractor, framework, revision, use_fast, use_auth_token, model_kwargs, **kwargs)\u001b[0m\n\u001b[1;32m    467\u001b[0m         \u001b[0mrevision\u001b[0m\u001b[0;34m=\u001b[0m\u001b[0mrevision\u001b[0m\u001b[0;34m,\u001b[0m\u001b[0;34m\u001b[0m\u001b[0;34m\u001b[0m\u001b[0m\n\u001b[1;32m    468\u001b[0m         \u001b[0mtask\u001b[0m\u001b[0;34m=\u001b[0m\u001b[0mtask\u001b[0m\u001b[0;34m,\u001b[0m\u001b[0;34m\u001b[0m\u001b[0;34m\u001b[0m\u001b[0m\n\u001b[0;32m--> 469\u001b[0;31m         \u001b[0;34m**\u001b[0m\u001b[0mmodel_kwargs\u001b[0m\u001b[0;34m,\u001b[0m\u001b[0;34m\u001b[0m\u001b[0;34m\u001b[0m\u001b[0m\n\u001b[0m\u001b[1;32m    470\u001b[0m     )\n\u001b[1;32m    471\u001b[0m \u001b[0;34m\u001b[0m\u001b[0m\n",
            "\u001b[0;32m/usr/local/lib/python3.7/dist-packages/transformers/pipelines/base.py\u001b[0m in \u001b[0;36minfer_framework_load_model\u001b[0;34m(model, config, model_classes, task, framework, **model_kwargs)\u001b[0m\n\u001b[1;32m    149\u001b[0m \u001b[0;34m\u001b[0m\u001b[0m\n\u001b[1;32m    150\u001b[0m             \u001b[0;32mtry\u001b[0m\u001b[0;34m:\u001b[0m\u001b[0;34m\u001b[0m\u001b[0;34m\u001b[0m\u001b[0m\n\u001b[0;32m--> 151\u001b[0;31m                 \u001b[0mmodel\u001b[0m \u001b[0;34m=\u001b[0m \u001b[0mmodel_class\u001b[0m\u001b[0;34m.\u001b[0m\u001b[0mfrom_pretrained\u001b[0m\u001b[0;34m(\u001b[0m\u001b[0mmodel\u001b[0m\u001b[0;34m,\u001b[0m \u001b[0;34m**\u001b[0m\u001b[0mkwargs\u001b[0m\u001b[0;34m)\u001b[0m\u001b[0;34m\u001b[0m\u001b[0;34m\u001b[0m\u001b[0m\n\u001b[0m\u001b[1;32m    152\u001b[0m                 \u001b[0;32mif\u001b[0m \u001b[0mhasattr\u001b[0m\u001b[0;34m(\u001b[0m\u001b[0mmodel\u001b[0m\u001b[0;34m,\u001b[0m \u001b[0;34m\"eval\"\u001b[0m\u001b[0;34m)\u001b[0m\u001b[0;34m:\u001b[0m\u001b[0;34m\u001b[0m\u001b[0;34m\u001b[0m\u001b[0m\n\u001b[1;32m    153\u001b[0m                     \u001b[0mmodel\u001b[0m \u001b[0;34m=\u001b[0m \u001b[0mmodel\u001b[0m\u001b[0;34m.\u001b[0m\u001b[0meval\u001b[0m\u001b[0;34m(\u001b[0m\u001b[0;34m)\u001b[0m\u001b[0;34m\u001b[0m\u001b[0;34m\u001b[0m\u001b[0m\n",
            "\u001b[0;32m/usr/local/lib/python3.7/dist-packages/transformers/models/auto/auto_factory.py\u001b[0m in \u001b[0;36mfrom_pretrained\u001b[0;34m(cls, pretrained_model_name_or_path, *model_args, **kwargs)\u001b[0m\n\u001b[1;32m    417\u001b[0m         \u001b[0;32melif\u001b[0m \u001b[0mtype\u001b[0m\u001b[0;34m(\u001b[0m\u001b[0mconfig\u001b[0m\u001b[0;34m)\u001b[0m \u001b[0;32min\u001b[0m \u001b[0mcls\u001b[0m\u001b[0;34m.\u001b[0m\u001b[0m_model_mapping\u001b[0m\u001b[0;34m.\u001b[0m\u001b[0mkeys\u001b[0m\u001b[0;34m(\u001b[0m\u001b[0;34m)\u001b[0m\u001b[0;34m:\u001b[0m\u001b[0;34m\u001b[0m\u001b[0;34m\u001b[0m\u001b[0m\n\u001b[1;32m    418\u001b[0m             \u001b[0mmodel_class\u001b[0m \u001b[0;34m=\u001b[0m \u001b[0m_get_model_class\u001b[0m\u001b[0;34m(\u001b[0m\u001b[0mconfig\u001b[0m\u001b[0;34m,\u001b[0m \u001b[0mcls\u001b[0m\u001b[0;34m.\u001b[0m\u001b[0m_model_mapping\u001b[0m\u001b[0;34m)\u001b[0m\u001b[0;34m\u001b[0m\u001b[0;34m\u001b[0m\u001b[0m\n\u001b[0;32m--> 419\u001b[0;31m             \u001b[0;32mreturn\u001b[0m \u001b[0mmodel_class\u001b[0m\u001b[0;34m.\u001b[0m\u001b[0mfrom_pretrained\u001b[0m\u001b[0;34m(\u001b[0m\u001b[0mpretrained_model_name_or_path\u001b[0m\u001b[0;34m,\u001b[0m \u001b[0;34m*\u001b[0m\u001b[0mmodel_args\u001b[0m\u001b[0;34m,\u001b[0m \u001b[0mconfig\u001b[0m\u001b[0;34m=\u001b[0m\u001b[0mconfig\u001b[0m\u001b[0;34m,\u001b[0m \u001b[0;34m**\u001b[0m\u001b[0mkwargs\u001b[0m\u001b[0;34m)\u001b[0m\u001b[0;34m\u001b[0m\u001b[0;34m\u001b[0m\u001b[0m\n\u001b[0m\u001b[1;32m    420\u001b[0m         raise ValueError(\n\u001b[1;32m    421\u001b[0m             \u001b[0;34mf\"Unrecognized configuration class {config.__class__} for this kind of AutoModel: {cls.__name__}.\\n\"\u001b[0m\u001b[0;34m\u001b[0m\u001b[0;34m\u001b[0m\u001b[0m\n",
            "\u001b[0;32m/usr/local/lib/python3.7/dist-packages/transformers/modeling_utils.py\u001b[0m in \u001b[0;36mfrom_pretrained\u001b[0;34m(cls, pretrained_model_name_or_path, *model_args, **kwargs)\u001b[0m\n\u001b[1;32m   1444\u001b[0m                     \u001b[0mpretrained_model_name_or_path\u001b[0m\u001b[0;34m,\u001b[0m\u001b[0;34m\u001b[0m\u001b[0;34m\u001b[0m\u001b[0m\n\u001b[1;32m   1445\u001b[0m                     \u001b[0mignore_mismatched_sizes\u001b[0m\u001b[0;34m=\u001b[0m\u001b[0mignore_mismatched_sizes\u001b[0m\u001b[0;34m,\u001b[0m\u001b[0;34m\u001b[0m\u001b[0;34m\u001b[0m\u001b[0m\n\u001b[0;32m-> 1446\u001b[0;31m                     \u001b[0m_fast_init\u001b[0m\u001b[0;34m=\u001b[0m\u001b[0m_fast_init\u001b[0m\u001b[0;34m,\u001b[0m\u001b[0;34m\u001b[0m\u001b[0;34m\u001b[0m\u001b[0m\n\u001b[0m\u001b[1;32m   1447\u001b[0m                 )\n\u001b[1;32m   1448\u001b[0m \u001b[0;34m\u001b[0m\u001b[0m\n",
            "\u001b[0;32m/usr/local/lib/python3.7/dist-packages/transformers/modeling_utils.py\u001b[0m in \u001b[0;36m_load_state_dict_into_model\u001b[0;34m(cls, model, state_dict, pretrained_model_name_or_path, ignore_mismatched_sizes, _fast_init)\u001b[0m\n\u001b[1;32m   1593\u001b[0m         \u001b[0;32mif\u001b[0m \u001b[0mlen\u001b[0m\u001b[0;34m(\u001b[0m\u001b[0merror_msgs\u001b[0m\u001b[0;34m)\u001b[0m \u001b[0;34m>\u001b[0m \u001b[0;36m0\u001b[0m\u001b[0;34m:\u001b[0m\u001b[0;34m\u001b[0m\u001b[0;34m\u001b[0m\u001b[0m\n\u001b[1;32m   1594\u001b[0m             \u001b[0merror_msg\u001b[0m \u001b[0;34m=\u001b[0m \u001b[0;34m\"\\n\\t\"\u001b[0m\u001b[0;34m.\u001b[0m\u001b[0mjoin\u001b[0m\u001b[0;34m(\u001b[0m\u001b[0merror_msgs\u001b[0m\u001b[0;34m)\u001b[0m\u001b[0;34m\u001b[0m\u001b[0;34m\u001b[0m\u001b[0m\n\u001b[0;32m-> 1595\u001b[0;31m             \u001b[0;32mraise\u001b[0m \u001b[0mRuntimeError\u001b[0m\u001b[0;34m(\u001b[0m\u001b[0;34mf\"Error(s) in loading state_dict for {model.__class__.__name__}:\\n\\t{error_msg}\"\u001b[0m\u001b[0;34m)\u001b[0m\u001b[0;34m\u001b[0m\u001b[0;34m\u001b[0m\u001b[0m\n\u001b[0m\u001b[1;32m   1596\u001b[0m \u001b[0;34m\u001b[0m\u001b[0m\n\u001b[1;32m   1597\u001b[0m         \u001b[0;32mif\u001b[0m \u001b[0mlen\u001b[0m\u001b[0;34m(\u001b[0m\u001b[0munexpected_keys\u001b[0m\u001b[0;34m)\u001b[0m \u001b[0;34m>\u001b[0m \u001b[0;36m0\u001b[0m\u001b[0;34m:\u001b[0m\u001b[0;34m\u001b[0m\u001b[0;34m\u001b[0m\u001b[0m\n",
            "\u001b[0;31mRuntimeError\u001b[0m: Error(s) in loading state_dict for CamembertForSequenceClassification:\n\tsize mismatch for classifier.out_proj.weight: copying a param with shape torch.Size([4, 768]) from checkpoint, the shape in current model is torch.Size([3, 768]).\n\tsize mismatch for classifier.out_proj.bias: copying a param with shape torch.Size([4]) from checkpoint, the shape in current model is torch.Size([3])."
          ]
        }
      ]
    },
    {
      "cell_type": "code",
      "metadata": {
        "id": "bnLmrsRWSgSS"
      },
      "source": [
        "sentiment_model('ผมมีความสุข')"
      ],
      "execution_count": null,
      "outputs": []
    },
    {
      "cell_type": "markdown",
      "metadata": {
        "id": "XeyRUDMAqTX7"
      },
      "source": [
        "## real text example"
      ]
    },
    {
      "cell_type": "code",
      "metadata": {
        "colab": {
          "base_uri": "https://localhost:8080/"
        },
        "id": "CNqtvqCPin0d",
        "outputId": "19fffb67-8b97-4608-ebab-c8b59d2627e4"
      },
      "source": [
        "text_list=['พื้นที่สีแดงเกือบทั้งประเทศควบคุมก็ยังไม่ได้ แต่เสือ_เปิดประเทศ เห้อ!!!!เอาควา_มาบริหารประเทศมันก็จะเจริญๆหน่อย',\n",
        "            'ประเทศนี้น่ากลัว รู้สึกว่าอันตรายสูงมาก',\n",
        "            'ดีใจจังเลยกรุงเทพฯไม่มีพื้นที่ควบคุม',\n",
        "            'ขอบคุณสำหรับความไว้วางใจและความเชื่อมั่นที่มอบให้กันตลอดมานะครับ 🙏🙏',\n",
        "            'แมนยูผมจะมาปีไหนครับ55555',\n",
        "            'ชอบไปนั่งทาน milkshake ที่สาขาทองหล่อ บรรยากาศดีมากๆ',\n",
        "            'chicken strip ชิ้นเล็กมาก เทียบกับป้ายโฆษณาบนโต๊ะ',\n",
        "            'ถ้าจะมี delivery น้อยขนาดนี้ อย่าเปิดเลย',\n",
        "            'ชอบมากอยากให้มีที่ปราจีนบุรีด้วย',\n",
        "            'ของน่ากินคะไม่แพงด้วย',\n",
        "            'เจ๋งครับ',\n",
        "            'เห็นหน้าอาจารยแล้วหมดศรัทธาหวะ',\n",
        "           'สวัสดียามเช้า']\n",
        "\n",
        "sentimental_scores=sentiment_model(text_list)\n",
        "\n",
        "for i in range(len(text_list)):\n",
        "    print(text_list[i])\n",
        "    print(sentimental_scores[i])"
      ],
      "execution_count": null,
      "outputs": [
        {
          "output_type": "stream",
          "name": "stderr",
          "text": [
            "/usr/local/lib/python3.7/dist-packages/torch/utils/data/dataloader.py:481: UserWarning: This DataLoader will create 8 worker processes in total. Our suggested max number of worker in current system is 2, which is smaller than what this DataLoader is going to create. Please be aware that excessive worker creation might get DataLoader running slow or even freeze, lower the worker number to avoid potential slowness/freeze if necessary.\n",
            "  cpuset_checked))\n"
          ]
        },
        {
          "output_type": "stream",
          "name": "stdout",
          "text": [
            "พื้นที่สีแดงเกือบทั้งประเทศควบคุมก็ยังไม่ได้ แต่เสือ_เปิดประเทศ เห้อ!!!!เอาควา_มาบริหารประเทศมันก็จะเจริญๆหน่อย\n",
            "{'label': 'neg', 'score': 0.7367165088653564}\n",
            "ประเทศนี้น่ากลัว รู้สึกว่าอันตรายสูงมาก\n",
            "{'label': 'neg', 'score': 0.5567857623100281}\n",
            "ดีใจจังเลยกรุงเทพฯไม่มีพื้นที่ควบคุม\n",
            "{'label': 'neu', 'score': 0.6274183392524719}\n",
            "ขอบคุณสำหรับความไว้วางใจและความเชื่อมั่นที่มอบให้กันตลอดมานะครับ 🙏🙏\n",
            "{'label': 'pos', 'score': 0.8820992112159729}\n",
            "แมนยูผมจะมาปีไหนครับ55555\n",
            "{'label': 'neu', 'score': 0.9379518628120422}\n",
            "ชอบไปนั่งทาน milkshake ที่สาขาทองหล่อ บรรยากาศดีมากๆ\n",
            "{'label': 'pos', 'score': 0.9723746180534363}\n",
            "chicken strip ชิ้นเล็กมาก เทียบกับป้ายโฆษณาบนโต๊ะ\n",
            "{'label': 'neg', 'score': 0.8906093835830688}\n",
            "ถ้าจะมี delivery น้อยขนาดนี้ อย่าเปิดเลย\n",
            "{'label': 'neg', 'score': 0.9532850384712219}\n",
            "ชอบมากอยากให้มีที่ปราจีนบุรีด้วย\n",
            "{'label': 'pos', 'score': 0.9503860473632812}\n",
            "ของน่ากินคะไม่แพงด้วย\n",
            "{'label': 'pos', 'score': 0.9131781458854675}\n",
            "เจ๋งครับ\n",
            "{'label': 'pos', 'score': 0.9113025069236755}\n",
            "เห็นหน้าอาจารยแล้วหมดศรัทธาหวะ\n",
            "{'label': 'neg', 'score': 0.8792645931243896}\n",
            "สวัสดียามเช้า\n",
            "{'label': 'neu', 'score': 0.8073709607124329}\n"
          ]
        }
      ]
    },
    {
      "cell_type": "code",
      "metadata": {
        "colab": {
          "base_uri": "https://localhost:8080/"
        },
        "id": "9vPVYUwt-87D",
        "outputId": "7458622e-dffd-4dc2-bdb3-6004ccd24561"
      },
      "source": [
        "sentiment_model('''หาทำกิจกรรมทุกอย่างในมอ แลกข้าว แลกเสื้อยืด แลกป้าย staff \n",
        "แล้วก็ได้ทุกอย่างที่ว่ามา แต่ลึกๆแล้วฉันก็อยากทำแล้วได้ผู้บ้าง แต่ไม่เคยได้ ฮือ!\n",
        "ซึ่งมันดีแล้ว เพราะไปหาทำข้างนอก แล้วได้แทน อุอิ 😗\n",
        "''')"
      ],
      "execution_count": null,
      "outputs": [
        {
          "output_type": "execute_result",
          "data": {
            "text/plain": [
              "[{'label': 'neu', 'score': 0.5092090368270874}]"
            ]
          },
          "metadata": {},
          "execution_count": 15
        }
      ]
    },
    {
      "cell_type": "code",
      "metadata": {
        "colab": {
          "base_uri": "https://localhost:8080/"
        },
        "id": "EO97w_qr_GT5",
        "outputId": "daa6699f-51f5-4e59-80ef-63c6d1e2a0b7"
      },
      "source": [
        "sentiment_model('''น่าจะเน่าสนิทแล้ว…ไล่ๆ ดูแล้ว เสียงแตกมาก ถึงมีหลายคนชอบแต่ก็ไม่ได้ชอบมาก ค่อนไปทางกลางๆ เสียส่วนใหญ่ บางคนก็เกลียดไปเลย คะแนนมะเขือเลยฉุดไปทางเน่าซะขนาดนี้''')"
      ],
      "execution_count": null,
      "outputs": [
        {
          "output_type": "execute_result",
          "data": {
            "text/plain": [
              "[{'label': 'neg', 'score': 0.8439623713493347}]"
            ]
          },
          "metadata": {},
          "execution_count": 16
        }
      ]
    },
    {
      "cell_type": "code",
      "metadata": {
        "colab": {
          "base_uri": "https://localhost:8080/"
        },
        "id": "16TUCITP_Mbp",
        "outputId": "925f5199-368d-46e4-cd89-c91d8cfeb0b3"
      },
      "source": [
        "sentiment_model('''ของดีเลย โกโจฉันเท่มากกกก''')"
      ],
      "execution_count": null,
      "outputs": [
        {
          "output_type": "execute_result",
          "data": {
            "text/plain": [
              "[{'label': 'pos', 'score': 0.8873563408851624}]"
            ]
          },
          "metadata": {},
          "execution_count": 17
        }
      ]
    },
    {
      "cell_type": "code",
      "metadata": {
        "colab": {
          "base_uri": "https://localhost:8080/"
        },
        "id": "2dqxptL_aEyp",
        "outputId": "25540ce3-ccea-4dc7-b534-2e55c88da8b4"
      },
      "source": [
        "sentiment_model('''ฟอร์ด บุกตลาด อีวี ในอินเดีย #prachachat #ตลาดรถยนต์''')"
      ],
      "execution_count": null,
      "outputs": [
        {
          "output_type": "execute_result",
          "data": {
            "text/plain": [
              "[{'label': 'neu', 'score': 0.9733113050460815}]"
            ]
          },
          "metadata": {},
          "execution_count": 18
        }
      ]
    },
    {
      "cell_type": "code",
      "metadata": {
        "colab": {
          "base_uri": "https://localhost:8080/"
        },
        "id": "hR8nOklKaKsh",
        "outputId": "d8fb01b0-33b4-4e42-998e-2935d3274948"
      },
      "source": [
        "sentiment_model('''สั่งไป 2 เมนูคือมัชฉะลาเต้ร้อนกับไอศครีมชาเขียว มัชฉะลาเต้ร้อน รสชาเขียวเข้มข้น หอม มัน แต่ไม่กลมกล่อม มันจืดแบบจืดสนิท ส่วนไอศครีมชาเขียว ทานแล้วรสมันออกใบไม้ๆมากกว่าชาเขียว แล้วก็หวานไป โดยรวมแล้วเฉยมากก ดีแค่รสชาเขียวเข้ม มีน้ำเปล่าบริการฟรี''')"
      ],
      "execution_count": null,
      "outputs": [
        {
          "output_type": "execute_result",
          "data": {
            "text/plain": [
              "[{'label': 'neu', 'score': 0.5917091369628906}]"
            ]
          },
          "metadata": {},
          "execution_count": 19
        }
      ]
    },
    {
      "cell_type": "markdown",
      "metadata": {
        "id": "HhTj6EVqqXQ7"
      },
      "source": [
        "## predict test"
      ]
    },
    {
      "cell_type": "code",
      "metadata": {
        "id": "gjtcgcDblgNV"
      },
      "source": [
        "to_predict_data=tokenized_datasets['test']"
      ],
      "execution_count": null,
      "outputs": []
    },
    {
      "cell_type": "code",
      "metadata": {
        "colab": {
          "base_uri": "https://localhost:8080/",
          "height": 105
        },
        "id": "rAxrWmJZjyCR",
        "outputId": "6b90ae6a-d6fb-420f-ceac-b4e1ac9ac279"
      },
      "source": [
        "predictions = trainer.predict(to_predict_data)\n",
        "# print(predictions.predictions.shape, predictions.label_ids.shape)"
      ],
      "execution_count": null,
      "outputs": [
        {
          "output_type": "stream",
          "name": "stderr",
          "text": [
            "The following columns in the test set  don't have a corresponding argument in `CamembertForSequenceClassification.forward` and have been ignored: texts.\n",
            "***** Running Prediction *****\n",
            "  Num examples = 2671\n",
            "  Batch size = 16\n"
          ]
        },
        {
          "output_type": "display_data",
          "data": {
            "text/html": [
              "\n",
              "    <div>\n",
              "      \n",
              "      <progress value='318' max='151' style='width:300px; height:20px; vertical-align: middle;'></progress>\n",
              "      [151/151 18:03]\n",
              "    </div>\n",
              "    "
            ],
            "text/plain": [
              "<IPython.core.display.HTML object>"
            ]
          },
          "metadata": {}
        }
      ]
    },
    {
      "cell_type": "code",
      "metadata": {
        "colab": {
          "base_uri": "https://localhost:8080/"
        },
        "id": "R0qJ239SlkKp",
        "outputId": "8b5ef763-948b-47a4-a51b-32504e045e25"
      },
      "source": [
        "y_pred=np.argmax(predictions.predictions,axis=-1)\n",
        "print(y_pred)\n",
        "\n",
        "# y_pred=(predictions.predictions[:,0]<predictions.predictions[:,2])*2\n",
        "# print(y_pred)\n",
        "\n",
        "y_true=np.array(to_predict_data['labels'])\n",
        "print(y_true)"
      ],
      "execution_count": null,
      "outputs": [
        {
          "output_type": "stream",
          "name": "stdout",
          "text": [
            "[2 1 2 ... 0 1 0]\n",
            "[2 1 2 ... 0 1 1]\n"
          ]
        }
      ]
    },
    {
      "cell_type": "code",
      "metadata": {
        "colab": {
          "base_uri": "https://localhost:8080/"
        },
        "id": "MONUcNcHmLI5",
        "outputId": "1a24bc12-de2f-4fbd-a13c-5d4f7fed0f07"
      },
      "source": [
        "print(classification_report(y_true, y_pred))\n",
        "# print(classification_report(y_true, y_pred, target_names=['pos','neg']))"
      ],
      "execution_count": null,
      "outputs": [
        {
          "output_type": "stream",
          "name": "stdout",
          "text": [
            "              precision    recall  f1-score   support\n",
            "\n",
            "           0       0.68      0.44      0.53       478\n",
            "           1       0.76      0.83      0.79      1453\n",
            "           2       0.76      0.82      0.79       683\n",
            "           3       0.72      0.40      0.52        57\n",
            "\n",
            "    accuracy                           0.75      2671\n",
            "   macro avg       0.73      0.62      0.66      2671\n",
            "weighted avg       0.74      0.75      0.74      2671\n",
            "\n"
          ]
        }
      ]
    },
    {
      "cell_type": "code",
      "metadata": {
        "colab": {
          "base_uri": "https://localhost:8080/",
          "height": 285
        },
        "id": "EPP_D1ZWkxIa",
        "outputId": "593838c5-a9fc-4dff-83ed-c97876f49d38"
      },
      "source": [
        "sns.heatmap(confusion_matrix(y_true, y_pred), annot=True,xticklabels=['pos','nue','neg','q'],yticklabels=['pos','nue','neg','q'])"
      ],
      "execution_count": null,
      "outputs": [
        {
          "output_type": "execute_result",
          "data": {
            "text/plain": [
              "<matplotlib.axes._subplots.AxesSubplot at 0x7f1cf04db310>"
            ]
          },
          "metadata": {},
          "execution_count": 28
        },
        {
          "output_type": "display_data",
          "data": {
            "image/png": "[encoded data removed]",
            "text/plain": [
              "<Figure size 432x288 with 2 Axes>"
            ]
          },
          "metadata": {
            "needs_background": "light"
          }
        }
      ]
    },
    {
      "cell_type": "code",
      "metadata": {
        "id": "sGxgTWCiHdUw"
      },
      "source": [
        ""
      ],
      "execution_count": null,
      "outputs": []
    }
  ]
}